{
  "nbformat": 4,
  "nbformat_minor": 0,
  "metadata": {
    "colab": {
      "provenance": [],
      "include_colab_link": true
    },
    "kernelspec": {
      "name": "python3",
      "display_name": "Python 3"
    },
    "language_info": {
      "name": "python"
    }
  },
  "cells": [
    {
      "cell_type": "markdown",
      "metadata": {
        "id": "view-in-github",
        "colab_type": "text"
      },
      "source": [
        "<a href=\"https://colab.research.google.com/github/AnzorGozalishvili/NASA_ODSR_DATA/blob/main/dataset_curation_v2.ipynb\" target=\"_parent\"><img src=\"https://colab.research.google.com/assets/colab-badge.svg\" alt=\"Open In Colab\"/></a>"
      ]
    },
    {
      "cell_type": "markdown",
      "source": [
        "# Install Requirements"
      ],
      "metadata": {
        "id": "wY9b-ylvFjJ1"
      }
    },
    {
      "cell_type": "code",
      "source": [
        "!pip install bio\n",
        "!pip install biopython\n",
        "!pip install boto3 torch"
      ],
      "metadata": {
        "colab": {
          "base_uri": "https://localhost:8080/"
        },
        "id": "GHWovwG2yPV4",
        "outputId": "bd34deb3-37d8-49be-eec1-457ede8e0ad8"
      },
      "execution_count": 1,
      "outputs": [
        {
          "output_type": "stream",
          "name": "stdout",
          "text": [
            "Collecting bio\n",
            "  Downloading bio-1.5.9-py3-none-any.whl (276 kB)\n",
            "\u001b[2K     \u001b[90m━━━━━━━━━━━━━━━━━━━━━━━━━━━━━━━━━━━━━━━\u001b[0m \u001b[32m276.4/276.4 kB\u001b[0m \u001b[31m5.6 MB/s\u001b[0m eta \u001b[36m0:00:00\u001b[0m\n",
            "\u001b[?25hCollecting biopython>=1.80 (from bio)\n",
            "  Downloading biopython-1.81-cp310-cp310-manylinux_2_17_x86_64.manylinux2014_x86_64.whl (3.1 MB)\n",
            "\u001b[2K     \u001b[90m━━━━━━━━━━━━━━━━━━━━━━━━━━━━━━━━━━━━━━━━\u001b[0m \u001b[32m3.1/3.1 MB\u001b[0m \u001b[31m56.6 MB/s\u001b[0m eta \u001b[36m0:00:00\u001b[0m\n",
            "\u001b[?25hRequirement already satisfied: requests in /usr/local/lib/python3.10/dist-packages (from bio) (2.31.0)\n",
            "Requirement already satisfied: tqdm in /usr/local/lib/python3.10/dist-packages (from bio) (4.66.1)\n",
            "Collecting mygene (from bio)\n",
            "  Downloading mygene-3.2.2-py2.py3-none-any.whl (5.4 kB)\n",
            "Requirement already satisfied: pandas in /usr/local/lib/python3.10/dist-packages (from bio) (1.5.3)\n",
            "Requirement already satisfied: pooch in /usr/local/lib/python3.10/dist-packages (from bio) (1.7.0)\n",
            "Collecting gprofiler-official (from bio)\n",
            "  Downloading gprofiler_official-1.0.0-py3-none-any.whl (9.3 kB)\n",
            "Requirement already satisfied: numpy in /usr/local/lib/python3.10/dist-packages (from biopython>=1.80->bio) (1.23.5)\n",
            "Collecting biothings-client>=0.2.6 (from mygene->bio)\n",
            "  Downloading biothings_client-0.3.0-py2.py3-none-any.whl (29 kB)\n",
            "Requirement already satisfied: python-dateutil>=2.8.1 in /usr/local/lib/python3.10/dist-packages (from pandas->bio) (2.8.2)\n",
            "Requirement already satisfied: pytz>=2020.1 in /usr/local/lib/python3.10/dist-packages (from pandas->bio) (2023.3.post1)\n",
            "Requirement already satisfied: platformdirs>=2.5.0 in /usr/local/lib/python3.10/dist-packages (from pooch->bio) (3.11.0)\n",
            "Requirement already satisfied: packaging>=20.0 in /usr/local/lib/python3.10/dist-packages (from pooch->bio) (23.2)\n",
            "Requirement already satisfied: charset-normalizer<4,>=2 in /usr/local/lib/python3.10/dist-packages (from requests->bio) (3.3.0)\n",
            "Requirement already satisfied: idna<4,>=2.5 in /usr/local/lib/python3.10/dist-packages (from requests->bio) (3.4)\n",
            "Requirement already satisfied: urllib3<3,>=1.21.1 in /usr/local/lib/python3.10/dist-packages (from requests->bio) (2.0.6)\n",
            "Requirement already satisfied: certifi>=2017.4.17 in /usr/local/lib/python3.10/dist-packages (from requests->bio) (2023.7.22)\n",
            "Requirement already satisfied: six>=1.5 in /usr/local/lib/python3.10/dist-packages (from python-dateutil>=2.8.1->pandas->bio) (1.16.0)\n",
            "Installing collected packages: biopython, gprofiler-official, biothings-client, mygene, bio\n",
            "Successfully installed bio-1.5.9 biopython-1.81 biothings-client-0.3.0 gprofiler-official-1.0.0 mygene-3.2.2\n",
            "Requirement already satisfied: biopython in /usr/local/lib/python3.10/dist-packages (1.81)\n",
            "Requirement already satisfied: numpy in /usr/local/lib/python3.10/dist-packages (from biopython) (1.23.5)\n",
            "Collecting boto3\n",
            "  Downloading boto3-1.28.62-py3-none-any.whl (135 kB)\n",
            "\u001b[2K     \u001b[90m━━━━━━━━━━━━━━━━━━━━━━━━━━━━━━━━━━━━━━━\u001b[0m \u001b[32m135.8/135.8 kB\u001b[0m \u001b[31m3.3 MB/s\u001b[0m eta \u001b[36m0:00:00\u001b[0m\n",
            "\u001b[?25hRequirement already satisfied: torch in /usr/local/lib/python3.10/dist-packages (2.0.1+cu118)\n",
            "Collecting botocore<1.32.0,>=1.31.62 (from boto3)\n",
            "  Downloading botocore-1.31.62-py3-none-any.whl (11.2 MB)\n",
            "\u001b[2K     \u001b[90m━━━━━━━━━━━━━━━━━━━━━━━━━━━━━━━━━━━━━━━━\u001b[0m \u001b[32m11.2/11.2 MB\u001b[0m \u001b[31m78.7 MB/s\u001b[0m eta \u001b[36m0:00:00\u001b[0m\n",
            "\u001b[?25hCollecting jmespath<2.0.0,>=0.7.1 (from boto3)\n",
            "  Downloading jmespath-1.0.1-py3-none-any.whl (20 kB)\n",
            "Collecting s3transfer<0.8.0,>=0.7.0 (from boto3)\n",
            "  Downloading s3transfer-0.7.0-py3-none-any.whl (79 kB)\n",
            "\u001b[2K     \u001b[90m━━━━━━━━━━━━━━━━━━━━━━━━━━━━━━━━━━━━━━━━\u001b[0m \u001b[32m79.8/79.8 kB\u001b[0m \u001b[31m9.5 MB/s\u001b[0m eta \u001b[36m0:00:00\u001b[0m\n",
            "\u001b[?25hRequirement already satisfied: filelock in /usr/local/lib/python3.10/dist-packages (from torch) (3.12.4)\n",
            "Requirement already satisfied: typing-extensions in /usr/local/lib/python3.10/dist-packages (from torch) (4.5.0)\n",
            "Requirement already satisfied: sympy in /usr/local/lib/python3.10/dist-packages (from torch) (1.12)\n",
            "Requirement already satisfied: networkx in /usr/local/lib/python3.10/dist-packages (from torch) (3.1)\n",
            "Requirement already satisfied: jinja2 in /usr/local/lib/python3.10/dist-packages (from torch) (3.1.2)\n",
            "Requirement already satisfied: triton==2.0.0 in /usr/local/lib/python3.10/dist-packages (from torch) (2.0.0)\n",
            "Requirement already satisfied: cmake in /usr/local/lib/python3.10/dist-packages (from triton==2.0.0->torch) (3.27.6)\n",
            "Requirement already satisfied: lit in /usr/local/lib/python3.10/dist-packages (from triton==2.0.0->torch) (17.0.2)\n",
            "Requirement already satisfied: python-dateutil<3.0.0,>=2.1 in /usr/local/lib/python3.10/dist-packages (from botocore<1.32.0,>=1.31.62->boto3) (2.8.2)\n",
            "Requirement already satisfied: urllib3<2.1,>=1.25.4 in /usr/local/lib/python3.10/dist-packages (from botocore<1.32.0,>=1.31.62->boto3) (2.0.6)\n",
            "Requirement already satisfied: MarkupSafe>=2.0 in /usr/local/lib/python3.10/dist-packages (from jinja2->torch) (2.1.3)\n",
            "Requirement already satisfied: mpmath>=0.19 in /usr/local/lib/python3.10/dist-packages (from sympy->torch) (1.3.0)\n",
            "Requirement already satisfied: six>=1.5 in /usr/local/lib/python3.10/dist-packages (from python-dateutil<3.0.0,>=2.1->botocore<1.32.0,>=1.31.62->boto3) (1.16.0)\n",
            "Installing collected packages: jmespath, botocore, s3transfer, boto3\n",
            "Successfully installed boto3-1.28.62 botocore-1.31.62 jmespath-1.0.1 s3transfer-0.7.0\n"
          ]
        }
      ]
    },
    {
      "cell_type": "code",
      "source": [
        "from tqdm import tqdm\n",
        "tqdm.pandas()"
      ],
      "metadata": {
        "id": "55NgIXzTRD0a"
      },
      "execution_count": 91,
      "outputs": []
    },
    {
      "cell_type": "markdown",
      "source": [
        "# Import Libraries\n",
        "- for data access on s3\n",
        "- for data read and manupulation"
      ],
      "metadata": {
        "id": "hbOrkKgrFnr6"
      }
    },
    {
      "cell_type": "code",
      "source": [
        "from Bio import SeqIO\n",
        "import gzip\n",
        "import pandas as pd\n",
        "import boto3\n",
        "from botocore import UNSIGNED\n",
        "from botocore.client import Config\n",
        "import requests\n",
        "import os\n",
        "from torch.utils.data import Dataset, DataLoader\n",
        "import torch\n",
        "\n",
        "import zipfile\n",
        "import io\n",
        "import csv\n"
      ],
      "metadata": {
        "id": "JhuuF2GdnO2V"
      },
      "execution_count": 2,
      "outputs": []
    },
    {
      "cell_type": "code",
      "source": [
        "# remove downloads folder to start from scratch if needed\n",
        "# !rm -rf downloaded_data"
      ],
      "metadata": {
        "id": "3oZZEFGs9tho"
      },
      "execution_count": 3,
      "outputs": []
    },
    {
      "cell_type": "markdown",
      "source": [
        "## Retrieving all `OSD-XXX` experiment directories from public s3 bucket `nasa-osdr`\n",
        "\n",
        "Reference: https://registry.opendata.aws/nasa-osdr/"
      ],
      "metadata": {
        "id": "FixkZiSWF_CN"
      }
    },
    {
      "cell_type": "code",
      "source": [
        "BUCKET_NAME='nasa-osdr'"
      ],
      "metadata": {
        "id": "ImgCCghlmgb1"
      },
      "execution_count": 4,
      "outputs": []
    },
    {
      "cell_type": "code",
      "source": [
        "CLIENT = boto3.client('s3', config=Config(signature_version=UNSIGNED))\n",
        "PAGINATOR = CLIENT.get_paginator('list_objects_v2')"
      ],
      "metadata": {
        "id": "_Oo8lLxont81"
      },
      "execution_count": 5,
      "outputs": []
    },
    {
      "cell_type": "code",
      "source": [
        "def list_all_directories(directory_prefix, delimiter='/', show_errors=True):\n",
        "  result = PAGINATOR.paginate(Bucket=BUCKET_NAME, Prefix=directory_prefix, Delimiter=delimiter)\n",
        "\n",
        "  all_directories = []\n",
        "  for prefix in result.search('CommonPrefixes'):\n",
        "      try:\n",
        "          all_directories.append(prefix.get('Prefix').removesuffix(delimiter))\n",
        "      except Exception as e:\n",
        "          if show_errors is True:\n",
        "            print(bucket_name, directory_prefix, delimiter, e)\n",
        "\n",
        "  return all_directories"
      ],
      "metadata": {
        "id": "dLgQ27ja8X1G"
      },
      "execution_count": 6,
      "outputs": []
    },
    {
      "cell_type": "code",
      "source": [
        "assert len(list_all_directories(directory_prefix='OSD-', delimiter='/')) == 451"
      ],
      "metadata": {
        "id": "yx7JkZM--OR1"
      },
      "execution_count": 7,
      "outputs": []
    },
    {
      "cell_type": "markdown",
      "source": [
        "## Get all versions sorted to be able to access latest only records"
      ],
      "metadata": {
        "id": "1eGXvoz3GRV4"
      }
    },
    {
      "cell_type": "code",
      "source": [
        "def get_osdr_versions_sorted(osdr_directory_name, delimiter='/', show_errors=True):\n",
        "    result = PAGINATOR.paginate(\n",
        "        Bucket=BUCKET_NAME,\n",
        "        Prefix=osdr_directory_name + delimiter,\n",
        "        Delimiter=delimiter\n",
        "        )\n",
        "\n",
        "    all_versions = []\n",
        "    for prefix in result.search('CommonPrefixes'):\n",
        "        version_directory_name = prefix.get('Prefix').removesuffix(delimiter).removeprefix(osdr_directory_name + delimiter)\n",
        "        try:\n",
        "            assert version_directory_name.startswith('version-')\n",
        "            version_number = int(version_directory_name.split('-')[-1])\n",
        "            all_versions.append((version_directory_name, version_number))\n",
        "        except:\n",
        "            if show_errors is True:\n",
        "                print(f'skipping invalid version directory name:{version_directory_name} under: {osdr_directory_name}')\n",
        "\n",
        "    all_versions_sorted = sorted(all_versions, key=lambda x: x[1])\n",
        "\n",
        "    return all_versions_sorted"
      ],
      "metadata": {
        "id": "MLb0NvA6-8pO"
      },
      "execution_count": 8,
      "outputs": []
    },
    {
      "cell_type": "code",
      "source": [
        "[\n",
        "    (osd, get_osdr_versions_sorted(osdr_directory_name=osd, delimiter='/'))\n",
        "    for osd in list_all_directories(directory_prefix='OSD-', delimiter='/')[:10]\n",
        "]"
      ],
      "metadata": {
        "id": "ILQIBTyvARm5",
        "outputId": "fe8ddcbf-1f79-4853-93eb-2b66e2a2efdc",
        "colab": {
          "base_uri": "https://localhost:8080/"
        }
      },
      "execution_count": 9,
      "outputs": [
        {
          "output_type": "execute_result",
          "data": {
            "text/plain": [
              "[('OSD-1', [('version-6', 6)]),\n",
              " ('OSD-100', [('version-5', 5)]),\n",
              " ('OSD-101', [('version-5', 5)]),\n",
              " ('OSD-102', [('version-5', 5)]),\n",
              " ('OSD-103', [('version-5', 5)]),\n",
              " ('OSD-104', [('version-4', 4)]),\n",
              " ('OSD-105', [('version-4', 4)]),\n",
              " ('OSD-106', [('version-1', 1)]),\n",
              " ('OSD-107', [('version-1', 1)]),\n",
              " ('OSD-108', [('version-2', 2)])]"
            ]
          },
          "metadata": {},
          "execution_count": 9
        }
      ]
    },
    {
      "cell_type": "markdown",
      "source": [
        "## count the number of versions distribution per OSD-XXX **(takes about a minute to run!)**"
      ],
      "metadata": {
        "id": "EEt7pPJDGgMR"
      }
    },
    {
      "cell_type": "code",
      "source": [
        "osdr_versions_sorted = {\n",
        "    osdr: get_osdr_versions_sorted(osdr_directory_name=osdr, delimiter='/')\n",
        "    for osdr in list_all_directories(directory_prefix='OSD-', delimiter='/')\n",
        "}\n",
        "osdr_versions_counts = {\n",
        "    osdr: len(versions_sorted)\n",
        "    for  osdr, versions_sorted in osdr_versions_sorted.items()\n",
        "}\n",
        "\n",
        "pd.Series(osdr_versions_counts).value_counts()"
      ],
      "metadata": {
        "id": "VRGCN07fDA77",
        "outputId": "b302ce7a-32c0-4672-bceb-ad76f527c887",
        "colab": {
          "base_uri": "https://localhost:8080/"
        }
      },
      "execution_count": 10,
      "outputs": [
        {
          "output_type": "execute_result",
          "data": {
            "text/plain": [
              "1    417\n",
              "2     34\n",
              "dtype: int64"
            ]
          },
          "metadata": {},
          "execution_count": 10
        }
      ]
    },
    {
      "cell_type": "code",
      "source": [
        "pd.Series(osdr_versions_sorted)"
      ],
      "metadata": {
        "id": "VDAezl6WBRdJ",
        "outputId": "e5648023-4371-4310-c659-f0f2e57f95f4",
        "colab": {
          "base_uri": "https://localhost:8080/"
        }
      },
      "execution_count": 11,
      "outputs": [
        {
          "output_type": "execute_result",
          "data": {
            "text/plain": [
              "OSD-1      [(version-6, 6)]\n",
              "OSD-100    [(version-5, 5)]\n",
              "OSD-101    [(version-5, 5)]\n",
              "OSD-102    [(version-5, 5)]\n",
              "OSD-103    [(version-5, 5)]\n",
              "                 ...       \n",
              "OSD-95     [(version-1, 1)]\n",
              "OSD-96     [(version-6, 6)]\n",
              "OSD-97     [(version-1, 1)]\n",
              "OSD-98     [(version-8, 8)]\n",
              "OSD-99     [(version-5, 5)]\n",
              "Length: 451, dtype: object"
            ]
          },
          "metadata": {},
          "execution_count": 11
        }
      ]
    },
    {
      "cell_type": "code",
      "source": [
        "osdr_latest_versions = {\n",
        "    osdr: sorted_versions[-1]\n",
        "    for osdr, sorted_versions in osdr_versions_sorted.items()\n",
        "}"
      ],
      "metadata": {
        "id": "BrTHBPc4Mhpb"
      },
      "execution_count": 12,
      "outputs": []
    },
    {
      "cell_type": "code",
      "source": [
        "list(osdr_latest_versions.items())[:5]"
      ],
      "metadata": {
        "id": "PsgIoyYBMtUG",
        "outputId": "0f6cc410-8980-4e5c-8828-5c1762c92bd9",
        "colab": {
          "base_uri": "https://localhost:8080/"
        }
      },
      "execution_count": 13,
      "outputs": [
        {
          "output_type": "execute_result",
          "data": {
            "text/plain": [
              "[('OSD-1', ('version-6', 6)),\n",
              " ('OSD-100', ('version-5', 5)),\n",
              " ('OSD-101', ('version-5', 5)),\n",
              " ('OSD-102', ('version-5', 5)),\n",
              " ('OSD-103', ('version-5', 5))]"
            ]
          },
          "metadata": {},
          "execution_count": 13
        }
      ]
    },
    {
      "cell_type": "markdown",
      "source": [
        "## Access latest metadata files for each `OSD-XXX`"
      ],
      "metadata": {
        "id": "QksQyAzwG1c1"
      }
    },
    {
      "cell_type": "code",
      "source": [
        "def get_osdr_versioned_study_names(osdr_versioned_directory_name, delimiter='/', show_errors=True):\n",
        "    result = PAGINATOR.paginate(\n",
        "        Bucket=BUCKET_NAME,\n",
        "        Prefix=osdr_versioned_directory_name + delimiter,\n",
        "        Delimiter=delimiter\n",
        "    )\n",
        "\n",
        "    all_study_names = []\n",
        "    for prefix in result.search('CommonPrefixes'):\n",
        "        study_name = prefix.get('Prefix').removesuffix(delimiter).removeprefix(osdr_versioned_directory_name + delimiter)\n",
        "        all_study_names.append(study_name)\n",
        "\n",
        "    try:\n",
        "        assert all_study_names, f'No studies found for: {osdr_versioned_directory_name}'\n",
        "        assert 'metadata' in all_study_names, \\\n",
        "        f'No metadata found for: {osdr_versioned_directory_name}\\tStudies found: {all_study_names}'\n",
        "    except:\n",
        "        if show_errors is True:\n",
        "            print(f'Validation Failed for: {osdr_versioned_directory_name}\\tStudies found: {all_study_names}')\n",
        "\n",
        "    return all_study_names"
      ],
      "metadata": {
        "id": "97rbD7sHIoro"
      },
      "execution_count": 14,
      "outputs": []
    },
    {
      "cell_type": "code",
      "source": [
        "[\n",
        "    get_osdr_versioned_study_names(\n",
        "        osdr_versioned_directory_name=osdr + '/' + latest_version[0],\n",
        "        delimiter='/',\n",
        "    )\n",
        "    for osdr, latest_version in list(osdr_latest_versions.items())[:5]\n",
        "]"
      ],
      "metadata": {
        "id": "BfVFOwilILDK",
        "outputId": "4265376f-0e80-4f13-82e1-e8b86b01b228",
        "colab": {
          "base_uri": "https://localhost:8080/"
        }
      },
      "execution_count": 15,
      "outputs": [
        {
          "output_type": "execute_result",
          "data": {
            "text/plain": [
              "[['array', 'metadata', 'microarray'],\n",
              " ['design', 'metadata', 'rna-seq', 'rna_seq', 'wgbs'],\n",
              " ['epigenomics',\n",
              "  'epitranscriptomics',\n",
              "  'metadata',\n",
              "  'proteomics',\n",
              "  'rna_seq',\n",
              "  'sup',\n",
              "  'transcriptomics'],\n",
              " ['design',\n",
              "  'epigenomics',\n",
              "  'epitranscriptomics',\n",
              "  'metadata',\n",
              "  'proteomics',\n",
              "  'rna_seq',\n",
              "  'transcriptomics'],\n",
              " ['design', 'metadata', 'proteomics', 'rna-seq', 'rna_seq', 'wgbs', 'wtbs']]"
            ]
          },
          "metadata": {},
          "execution_count": 15
        }
      ]
    },
    {
      "cell_type": "code",
      "source": [
        "osdr_latest_version_studies = {\n",
        "    osdr: get_osdr_versioned_study_names(\n",
        "        osdr_versioned_directory_name=osdr + '/' + latest_version[0],\n",
        "        delimiter='/',\n",
        "    )\n",
        "    for osdr, latest_version in list(osdr_latest_versions.items())\n",
        "}\n",
        "osdr_latest_version_studies_counts = {\n",
        "    osdr: len(studies)\n",
        "    for  osdr, studies in osdr_latest_version_studies.items()\n",
        "}\n",
        "\n",
        "pd.Series(osdr_latest_version_studies_counts).value_counts()"
      ],
      "metadata": {
        "id": "OZlVLZcaKlH2",
        "outputId": "0f4a518d-3dc9-4d08-fffb-f6cfdd395a4f",
        "colab": {
          "base_uri": "https://localhost:8080/"
        }
      },
      "execution_count": 16,
      "outputs": [
        {
          "output_type": "stream",
          "name": "stdout",
          "text": [
            "Validation Failed for: OSD-235/version-6\tStudies found: ['rna-seq', 'rna_seq']\n",
            "Validation Failed for: OSD-245/version-14\tStudies found: ['rna-seq', 'rna_seq']\n"
          ]
        },
        {
          "output_type": "execute_result",
          "data": {
            "text/plain": [
              "2    232\n",
              "3    177\n",
              "5     18\n",
              "4     15\n",
              "7      4\n",
              "6      4\n",
              "8      1\n",
              "dtype: int64"
            ]
          },
          "metadata": {},
          "execution_count": 16
        }
      ]
    },
    {
      "cell_type": "code",
      "source": [
        "pd.Series(pd.Series(osdr_latest_version_studies).sum()).value_counts().to_dict()"
      ],
      "metadata": {
        "id": "0oPlQ0q0SgN6",
        "outputId": "99f097fe-6e3c-463a-df87-a566aa506540",
        "colab": {
          "base_uri": "https://localhost:8080/"
        }
      },
      "execution_count": 17,
      "outputs": [
        {
          "output_type": "execute_result",
          "data": {
            "text/plain": [
              "{'metadata': 449,\n",
              " 'microarray': 153,\n",
              " 'rna-seq': 123,\n",
              " 'rna_seq': 107,\n",
              " 'array': 68,\n",
              " 'proteomics': 29,\n",
              " 'wgs': 28,\n",
              " 'transcriptomics': 22,\n",
              " 'Amplicon': 17,\n",
              " 'GAmplicon': 17,\n",
              " 'metagenomics': 14,\n",
              " 'epigenomics': 13,\n",
              " 'sequencing': 13,\n",
              " 'micoarray': 10,\n",
              " 'wgbs': 8,\n",
              " 'metabolomics': 7,\n",
              " 'microCT': 7,\n",
              " 'GSpatialTranscriptomics': 6,\n",
              " 'sup': 6,\n",
              " 'Histology': 6,\n",
              " 'SpatialTranscriptomics': 6,\n",
              " 'miRNA-Seq': 6,\n",
              " 'design': 5,\n",
              " 'scRNA-Seq': 4,\n",
              " 'scRNA_Seq': 4,\n",
              " 'GMetagenomics': 4,\n",
              " 'RT-PCR': 3,\n",
              " 'western-blot': 3,\n",
              " 'Epigenomics': 3,\n",
              " 'rnaseq': 3,\n",
              " 'epitranscriptomics': 3,\n",
              " 'miRNA_microarray': 3,\n",
              " 'Gwgbs': 2,\n",
              " 'snRNA-Seq': 2,\n",
              " 'EPM': 2,\n",
              " 'IHC': 2,\n",
              " 'Bone_Biomechanical': 2,\n",
              " 'wtbs': 2,\n",
              " 'GsnATAC-Seq': 2,\n",
              " 'snATAC-Seq': 2,\n",
              " 'GsnRNA-Seq': 2,\n",
              " 'microscopy': 2,\n",
              " 'histomorphometry': 2,\n",
              " 'immunostaining_microscopy': 2,\n",
              " 'Balance_Beam': 1,\n",
              " 'Radial_Arm_Water_Maze': 1,\n",
              " 'Novel_Object_Recognition': 1,\n",
              " 'Illumina sequencing': 1,\n",
              " 'Flow_Cytometry': 1,\n",
              " 'peripheral_quantitative_computed_tomography_pQCT': 1,\n",
              " 'Locomotion': 1,\n",
              " 'Video Recording': 1,\n",
              " 'Three_Chamber_Social_Test': 1,\n",
              " 'tonometry': 1,\n",
              " 'Open_Field': 1,\n",
              " 'GWAS': 1,\n",
              " 'chip-seq': 1,\n",
              " 'ecotype': 1,\n",
              " '2dDIGE': 1,\n",
              " 'mass_spec': 1,\n",
              " 'mRNA_microarray': 1,\n",
              " 'morphometric-photography': 1,\n",
              " 'proteome': 1,\n",
              " 'metatranscriptomics': 1,\n",
              " 'SNP': 1,\n",
              " 'wildtype': 1,\n",
              " 'calcium-uptake': 1,\n",
              " 'DIP-seq': 1,\n",
              " 'membrane': 1,\n",
              " 'soluble': 1,\n",
              " 'Echocardiography': 1,\n",
              " 'phosphproteomics': 1,\n",
              " 'image-analysis': 1,\n",
              " 'Gait': 1,\n",
              " 'PacBio sequencing': 1}"
            ]
          },
          "metadata": {},
          "execution_count": 17
        }
      ]
    },
    {
      "cell_type": "markdown",
      "source": [
        "**Try to find the location of metadata tables for `OSD-245` and `OSD-235` !**"
      ],
      "metadata": {
        "id": "eW5BTc4LSGB0"
      }
    },
    {
      "cell_type": "code",
      "source": [
        "def list_all_file_by_extensions(directory_prefix, show_errors=True):\n",
        "  result = PAGINATOR.paginate(Bucket=BUCKET_NAME, Prefix=directory_prefix)\n",
        "\n",
        "  all_files = []\n",
        "  for prefix in result.search('Contents'):\n",
        "      try:\n",
        "          file_prefix = prefix.get('Key')\n",
        "          file_prefix_without_directory_prefix = file_prefix.removeprefix(directory_prefix)\n",
        "          file_extension = \".\".join(file_prefix_without_directory_prefix.split('.')[1:])\n",
        "          all_files.append((file_prefix_without_directory_prefix, file_extension))\n",
        "      except Exception as e:\n",
        "          if show_errors is True:\n",
        "              print(BUCKET_NAME, directory_prefix, e)\n",
        "\n",
        "  all_extensions = set([x[1] for x in all_files])\n",
        "  files_by_extensions = {extension:[] for extension in all_extensions}\n",
        "  for file_prefix_without_directory_prefix, file_extension in all_files:\n",
        "      files_by_extensions[file_extension].append(file_prefix_without_directory_prefix)\n",
        "\n",
        "  return files_by_extensions"
      ],
      "metadata": {
        "id": "ds86dJ5AWevG"
      },
      "execution_count": 18,
      "outputs": []
    },
    {
      "cell_type": "code",
      "source": [
        "assert list_all_file_by_extensions(\n",
        "            directory_prefix=f'OSD-235/version-6/rna_seq/',\n",
        "        )"
      ],
      "metadata": {
        "id": "cgLThAi_cLfB"
      },
      "execution_count": 19,
      "outputs": []
    },
    {
      "cell_type": "code",
      "source": [
        "def explore_file_types_in_studies_to_identify_metadata(osdrs):\n",
        "  separator = \"=\"*80 + '\\n'\n",
        "\n",
        "  print(\"Versions\\n\", separator)\n",
        "  # check number of versions\n",
        "  for osdr in osdrs:\n",
        "    print(osdr, 'versions found: ', osdr_versions_sorted[osdr])\n",
        "\n",
        "  print(\"Studies\\n\", separator)\n",
        "  # check studies\n",
        "  for osdr in osdrs:\n",
        "    latest_version = osdr_latest_versions[osdr][0]\n",
        "    latest_studies = osdr_latest_version_studies[osdr]\n",
        "    print(separator)\n",
        "    print(osdr, latest_version, 'studies found:', latest_studies)\n",
        "\n",
        "\n",
        "  # check study contents\n",
        "  for osdr in osdrs:\n",
        "    latest_version = osdr_latest_versions[osdr][0]\n",
        "    latest_studies = osdr_latest_version_studies[osdr]\n",
        "\n",
        "    print(\"Studies Contents\\n\", separator)\n",
        "    # check all file types in each study\n",
        "    for study in latest_studies:\n",
        "\n",
        "        # check if more directories exist in studies\n",
        "        study_subdirectories = list_all_directories(\n",
        "            directory_prefix=f'{osdr}/{latest_version}/{study}/',\n",
        "            delimiter='/',\n",
        "            show_errors = False,\n",
        "        )\n",
        "        print(separator)\n",
        "        print(osdr, latest_version, study, 'subdirectories found:', study_subdirectories)\n",
        "\n",
        "\n",
        "        # group all files by extensions in study\n",
        "        study_files_by_extensions = list_all_file_by_extensions(\n",
        "            directory_prefix=f'{osdr}/{latest_version}/{study}/',\n",
        "            show_errors = False,\n",
        "        )\n",
        "        try:\n",
        "            extension_value_counts = pd.Series(study_files_by_extensions).apply(len).to_dict()\n",
        "            extension_file_examples = pd.Series(study_files_by_extensions).apply(lambda x: x[:2]).to_dict()\n",
        "            print(separator)\n",
        "            print(\n",
        "                osdr, latest_version, study,\n",
        "                'files grouped by extensions:', extension_value_counts, extension_file_examples\n",
        "            )\n",
        "        except Exception as e:\n",
        "            print(e)"
      ],
      "metadata": {
        "id": "r1qlYBZ7U6OT"
      },
      "execution_count": 20,
      "outputs": []
    },
    {
      "cell_type": "code",
      "source": [
        "explore_file_types_in_studies_to_identify_metadata(['OSD-245', 'OSD-235'])"
      ],
      "metadata": {
        "id": "rnI_e7IYb_ul",
        "outputId": "770c6b37-6eb3-4852-aa19-542d25f6294a",
        "colab": {
          "base_uri": "https://localhost:8080/"
        }
      },
      "execution_count": 21,
      "outputs": [
        {
          "output_type": "stream",
          "name": "stdout",
          "text": [
            "Versions\n",
            " ================================================================================\n",
            "\n",
            "OSD-245 versions found:  [('version-14', 14)]\n",
            "OSD-235 versions found:  [('version-6', 6)]\n",
            "Studies\n",
            " ================================================================================\n",
            "\n",
            "================================================================================\n",
            "\n",
            "OSD-245 version-14 studies found: ['rna-seq', 'rna_seq']\n",
            "================================================================================\n",
            "\n",
            "OSD-235 version-6 studies found: ['rna-seq', 'rna_seq']\n",
            "Studies Contents\n",
            " ================================================================================\n",
            "\n",
            "================================================================================\n",
            "\n",
            "OSD-245 version-14 rna-seq subdirectories found: []\n",
            "================================================================================\n",
            "\n",
            "OSD-245 version-14 rna-seq files grouped by extensions: {'html': 107, 'fastq.gz': 118, 'zip': 107} {'html': ['GLDS-245_rna-seq_Mmus_C57-6T_LVR_BSL_ISS-T_Rep10_B2_R1_raw_fastqc.html', 'GLDS-245_rna-seq_Mmus_C57-6T_LVR_BSL_ISS-T_Rep10_B2_R2_raw_fastqc.html'], 'fastq.gz': ['GLDS-245_rna-seq_Mmus_C57-6T_LVR_BSL_ISS-T_Rep10_B2_R1_raw.fastq.gz', 'GLDS-245_rna-seq_Mmus_C57-6T_LVR_BSL_ISS-T_Rep10_B2_R2_raw.fastq.gz'], 'zip': ['GLDS-245_rna-seq_Mmus_C57-6T_LVR_BSL_ISS-T_Rep10_B2_R1_raw_fastqc.zip', 'GLDS-245_rna-seq_Mmus_C57-6T_LVR_BSL_ISS-T_Rep10_B2_R2_raw_fastqc.zip']}\n",
            "================================================================================\n",
            "\n",
            "OSD-245 version-14 rna_seq subdirectories found: []\n",
            "================================================================================\n",
            "\n",
            "OSD-245 version-14 rna_seq files grouped by extensions: {'final.out': 59, 'html': 119, 'fastq.gz_trimming_report.txt': 118, 'toTranscriptome.out.bam': 59, 'zip': 119, 'sortedByCoord.out.bam': 59, 'out.tab': 59, 'fastq.gz': 118} {'final.out': ['GLDS-245_rna_seq_Mmus_C57-6T_LVR_BSL_ISS-T_Rep10_B2_Log.final.out', 'GLDS-245_rna_seq_Mmus_C57-6T_LVR_BSL_ISS-T_Rep1_B1_Log.final.out'], 'html': ['GLDS-245_rna_seq_Mmus_C57-6T_LVR_BSL_ISS-T_Rep10_B2_R1_trimmed_fastqc.html', 'GLDS-245_rna_seq_Mmus_C57-6T_LVR_BSL_ISS-T_Rep10_B2_R2_trimmed_fastqc.html'], 'fastq.gz_trimming_report.txt': ['GLDS-245_rna_seq_Mmus_C57-6T_LVR_BSL_ISS-T_Rep10_B2_R1_raw.fastq.gz_trimming_report.txt', 'GLDS-245_rna_seq_Mmus_C57-6T_LVR_BSL_ISS-T_Rep10_B2_R2_raw.fastq.gz_trimming_report.txt'], 'toTranscriptome.out.bam': ['GLDS-245_rna_seq_Mmus_C57-6T_LVR_BSL_ISS-T_Rep10_B2_Aligned.toTranscriptome.out.bam', 'GLDS-245_rna_seq_Mmus_C57-6T_LVR_BSL_ISS-T_Rep1_B1_Aligned.toTranscriptome.out.bam'], 'zip': ['GLDS-245_rna_seq_Mmus_C57-6T_LVR_BSL_ISS-T_Rep10_B2_R1_trimmed_fastqc.zip', 'GLDS-245_rna_seq_Mmus_C57-6T_LVR_BSL_ISS-T_Rep10_B2_R2_trimmed_fastqc.zip'], 'sortedByCoord.out.bam': ['GLDS-245_rna_seq_Mmus_C57-6T_LVR_BSL_ISS-T_Rep10_B2_Aligned.sortedByCoord.out.bam', 'GLDS-245_rna_seq_Mmus_C57-6T_LVR_BSL_ISS-T_Rep1_B1_Aligned.sortedByCoord.out.bam'], 'out.tab': ['GLDS-245_rna_seq_Mmus_C57-6T_LVR_BSL_ISS-T_Rep10_B2_SJ.out.tab', 'GLDS-245_rna_seq_Mmus_C57-6T_LVR_BSL_ISS-T_Rep1_B1_SJ.out.tab'], 'fastq.gz': ['GLDS-245_rna_seq_Mmus_C57-6T_LVR_BSL_ISS-T_Rep10_B2_R1_trimmed.fastq.gz', 'GLDS-245_rna_seq_Mmus_C57-6T_LVR_BSL_ISS-T_Rep10_B2_R2_trimmed.fastq.gz']}\n",
            "Studies Contents\n",
            " ================================================================================\n",
            "\n",
            "================================================================================\n",
            "\n",
            "OSD-235 version-6 rna-seq subdirectories found: []\n",
            "================================================================================\n",
            "\n",
            "OSD-235 version-6 rna-seq files grouped by extensions: {'html': 151, 'fastq.gz': 150, 'zip': 151} {'html': ['GLDS-235_rna-seq_Mmus_C57-6J_LVR_CO2_C_DI_ext1_Rep1_M31_R1_raw_fastqc.html', 'GLDS-235_rna-seq_Mmus_C57-6J_LVR_CO2_C_DI_ext1_Rep1_M31_R2_raw_fastqc.html'], 'fastq.gz': ['GLDS-235_rna-seq_Mmus_C57-6J_LVR_CO2_C_DI_ext1_Rep1_M31_R1_raw.fastq.gz', 'GLDS-235_rna-seq_Mmus_C57-6J_LVR_CO2_C_DI_ext1_Rep1_M31_R2_raw.fastq.gz'], 'zip': ['GLDS-235_rna-seq_Mmus_C57-6J_LVR_CO2_C_DI_ext1_Rep1_M31_R1_raw_fastqc.zip', 'GLDS-235_rna-seq_Mmus_C57-6J_LVR_CO2_C_DI_ext1_Rep1_M31_R2_raw_fastqc.zip']}\n",
            "================================================================================\n",
            "\n",
            "OSD-235 version-6 rna_seq subdirectories found: []\n",
            "================================================================================\n",
            "\n",
            "OSD-235 version-6 rna_seq files grouped by extensions: {'final.out': 75, 'html': 151, 'fastq.gz_trimming_report.txt': 150, 'toTranscriptome.out.bam': 75, 'zip': 151, 'sortedByCoord.out.bam': 75, 'out.tab': 75, 'fastq.gz': 150} {'final.out': ['GLDS-235_rna_seq_Mmus_C57-6J_LVR_CO2_C_DI_ext1_Rep1_M31_Log.final.out', 'GLDS-235_rna_seq_Mmus_C57-6J_LVR_CO2_C_DI_ext1_Rep2_M32_Log.final.out'], 'html': ['GLDS-235_rna_seq_Mmus_C57-6J_LVR_CO2_C_DI_ext1_Rep1_M31_R1_trimmed_fastqc.html', 'GLDS-235_rna_seq_Mmus_C57-6J_LVR_CO2_C_DI_ext1_Rep1_M31_R2_trimmed_fastqc.html'], 'fastq.gz_trimming_report.txt': ['GLDS-235_rna_seq_Mmus_C57-6J_LVR_CO2_C_DI_ext1_Rep1_M31_R1_raw.fastq.gz_trimming_report.txt', 'GLDS-235_rna_seq_Mmus_C57-6J_LVR_CO2_C_DI_ext1_Rep1_M31_R2_raw.fastq.gz_trimming_report.txt'], 'toTranscriptome.out.bam': ['GLDS-235_rna_seq_Mmus_C57-6J_LVR_CO2_C_DI_ext1_Rep1_M31_Aligned.toTranscriptome.out.bam', 'GLDS-235_rna_seq_Mmus_C57-6J_LVR_CO2_C_DI_ext1_Rep2_M32_Aligned.toTranscriptome.out.bam'], 'zip': ['GLDS-235_rna_seq_Mmus_C57-6J_LVR_CO2_C_DI_ext1_Rep1_M31_R1_trimmed_fastqc.zip', 'GLDS-235_rna_seq_Mmus_C57-6J_LVR_CO2_C_DI_ext1_Rep1_M31_R2_trimmed_fastqc.zip'], 'sortedByCoord.out.bam': ['GLDS-235_rna_seq_Mmus_C57-6J_LVR_CO2_C_DI_ext1_Rep1_M31_Aligned.sortedByCoord.out.bam', 'GLDS-235_rna_seq_Mmus_C57-6J_LVR_CO2_C_DI_ext1_Rep2_M32_Aligned.sortedByCoord.out.bam'], 'out.tab': ['GLDS-235_rna_seq_Mmus_C57-6J_LVR_CO2_C_DI_ext1_Rep1_M31_SJ.out.tab', 'GLDS-235_rna_seq_Mmus_C57-6J_LVR_CO2_C_DI_ext1_Rep2_M32_SJ.out.tab'], 'fastq.gz': ['GLDS-235_rna_seq_Mmus_C57-6J_LVR_CO2_C_DI_ext1_Rep1_M31_R1_trimmed.fastq.gz', 'GLDS-235_rna_seq_Mmus_C57-6J_LVR_CO2_C_DI_ext1_Rep1_M31_R2_trimmed.fastq.gz']}\n"
          ]
        }
      ]
    },
    {
      "cell_type": "markdown",
      "source": [
        "## Find `samples` and `assays` tables in `metadata` and check consistency to join them."
      ],
      "metadata": {
        "id": "STLz1YXeuivf"
      }
    },
    {
      "cell_type": "code",
      "source": [
        "list_all_file_by_extensions(directory_prefix=f'OSD-235/version-6/metadata/', show_errors=False)"
      ],
      "metadata": {
        "colab": {
          "base_uri": "https://localhost:8080/"
        },
        "id": "9aa3SQia5b62",
        "outputId": "1b05849d-a75e-4265-e549-00e389822fa8"
      },
      "execution_count": 27,
      "outputs": [
        {
          "output_type": "execute_result",
          "data": {
            "text/plain": [
              "{}"
            ]
          },
          "metadata": {},
          "execution_count": 27
        }
      ]
    },
    {
      "cell_type": "code",
      "source": [
        "osdr_metadata_files_by_extension = {\n",
        "    osdr: list_all_file_by_extensions(directory_prefix=f'{osdr}/{latest_version[0]}/metadata/')\n",
        "    for osdr, latest_version in list(osdr_latest_versions.items())\n",
        "}"
      ],
      "metadata": {
        "colab": {
          "base_uri": "https://localhost:8080/"
        },
        "id": "QDJIVZ0U5HB_",
        "outputId": "903e9945-a11c-4169-878b-2b0f12135e36"
      },
      "execution_count": 29,
      "outputs": [
        {
          "output_type": "stream",
          "name": "stdout",
          "text": [
            "nasa-osdr OSD-235/version-6/metadata/ 'NoneType' object has no attribute 'get'\n",
            "nasa-osdr OSD-245/version-14/metadata/ 'NoneType' object has no attribute 'get'\n"
          ]
        }
      ]
    },
    {
      "cell_type": "markdown",
      "source": [
        "Check that all contain files ending with `ISA.zip`"
      ],
      "metadata": {
        "id": "kC0cMlZG6qqW"
      }
    },
    {
      "cell_type": "code",
      "source": [
        "pd.Series(osdr_metadata_files_by_extension).apply(lambda x: [item.endswith('ISA.zip') for item in x.get('zip')] if x else []).value_counts()"
      ],
      "metadata": {
        "colab": {
          "base_uri": "https://localhost:8080/"
        },
        "id": "cBOhLm9b69xF",
        "outputId": "503352cf-b6c7-4555-b0d8-2e7c31c3ff7c"
      },
      "execution_count": 33,
      "outputs": [
        {
          "output_type": "execute_result",
          "data": {
            "text/plain": [
              "[True]     448\n",
              "[]           2\n",
              "[False]      1\n",
              "dtype: int64"
            ]
          },
          "metadata": {},
          "execution_count": 33
        }
      ]
    },
    {
      "cell_type": "code",
      "source": [
        "pd.Series(osdr_metadata_files_by_extension)[pd.Series(osdr_metadata_files_by_extension).apply(lambda x: [item.endswith('ISA.zip') for item in x.get('zip')] if x else []).apply(lambda x: x == [False])]"
      ],
      "metadata": {
        "colab": {
          "base_uri": "https://localhost:8080/"
        },
        "id": "DmhHv1Kf7bEB",
        "outputId": "85daef29-2e09-4cff-fd2c-8c73b61228fa"
      },
      "execution_count": 36,
      "outputs": [
        {
          "output_type": "execute_result",
          "data": {
            "text/plain": [
              "OSD-640    {'zip': ['OSD-640_metadata_OSD-640-ISA 2.zip']}\n",
              "dtype: object"
            ]
          },
          "metadata": {},
          "execution_count": 36
        }
      ]
    },
    {
      "cell_type": "markdown",
      "source": [
        "## Create a table where we define the following:\n",
        "- `experiment_id`\n",
        "- `total_versions`\n",
        "- `version`\n",
        "- `all_studies`\n",
        "- `study_file_extensions`\n",
        "- `metadata_file_extensions`\n",
        "- `metadata_uri`\n"
      ],
      "metadata": {
        "id": "h3Gxrz8x709a"
      }
    },
    {
      "cell_type": "code",
      "source": [
        "[item for item in osdr_metadata_files_by_extension['OSD-102'].get('zip', []) if item.endswith('ISA.zip') or item.endswith('ISA 2.zip')][0]"
      ],
      "metadata": {
        "colab": {
          "base_uri": "https://localhost:8080/",
          "height": 35
        },
        "id": "cNgX_bBY9YJy",
        "outputId": "03df8af6-21a5-469c-bfc6-6d2f8f381fad"
      },
      "execution_count": 52,
      "outputs": [
        {
          "output_type": "execute_result",
          "data": {
            "text/plain": [
              "'OSD-102_metadata_OSD-102-ISA.zip'"
            ],
            "application/vnd.google.colaboratory.intrinsic+json": {
              "type": "string"
            }
          },
          "metadata": {},
          "execution_count": 52
        }
      ]
    },
    {
      "cell_type": "code",
      "source": [
        "def get_metadata_zip_file_name(osdr):\n",
        "  metadata_files = [\n",
        "      item for item in osdr_metadata_files_by_extension[osdr].get('zip', [])\n",
        "      if item.endswith('ISA.zip') or item.endswith('ISA 2.zip')\n",
        "  ]\n",
        "  return metadata_files[0] if metadata_files else \"\""
      ],
      "metadata": {
        "id": "iorgQrZR_Ict"
      },
      "execution_count": 61,
      "outputs": []
    },
    {
      "cell_type": "code",
      "source": [
        "stats = pd.DataFrame(\n",
        "    [\n",
        "        {\n",
        "            \"experiment_id\": osdr,\n",
        "            \"total_versions\": len(osdr_versions_sorted[osdr]),\n",
        "            \"version\": latest_version[1],\n",
        "            \"all_studies\": osdr_latest_version_studies[osdr],\n",
        "            \"metadata_file_extensions\": osdr_metadata_files_by_extension[osdr],\n",
        "            \"metadata_filename\": get_metadata_zip_file_name(osdr),\n",
        "            \"metadata_path\": os.path.join(osdr, latest_version[0], 'metadata', get_metadata_zip_file_name(osdr))\n",
        "        }\n",
        "        for osdr, latest_version in osdr_latest_versions.items()\n",
        "    ]\n",
        ")"
      ],
      "metadata": {
        "id": "0OsYtcwB7z8p"
      },
      "execution_count": 62,
      "outputs": []
    },
    {
      "cell_type": "code",
      "source": [
        "stats"
      ],
      "metadata": {
        "colab": {
          "base_uri": "https://localhost:8080/",
          "height": 1796
        },
        "id": "fABNFvE4AeOS",
        "outputId": "7bd655d4-d202-4f9d-c697-3819355aa41a"
      },
      "execution_count": 63,
      "outputs": [
        {
          "output_type": "execute_result",
          "data": {
            "text/plain": [
              "    experiment_id  total_versions  version  \\\n",
              "0           OSD-1               1        6   \n",
              "1         OSD-100               1        5   \n",
              "2         OSD-101               1        5   \n",
              "3         OSD-102               1        5   \n",
              "4         OSD-103               1        5   \n",
              "..            ...             ...      ...   \n",
              "446        OSD-95               1        1   \n",
              "447        OSD-96               1        6   \n",
              "448        OSD-97               1        1   \n",
              "449        OSD-98               1        8   \n",
              "450        OSD-99               1        5   \n",
              "\n",
              "                                           all_studies  \\\n",
              "0                        [array, metadata, microarray]   \n",
              "1           [design, metadata, rna-seq, rna_seq, wgbs]   \n",
              "2    [epigenomics, epitranscriptomics, metadata, pr...   \n",
              "3    [design, epigenomics, epitranscriptomics, meta...   \n",
              "4    [design, metadata, proteomics, rna-seq, rna_se...   \n",
              "..                                                 ...   \n",
              "446                             [metadata, sequencing]   \n",
              "447                       [metadata, rna-seq, rna_seq]   \n",
              "448                             [metadata, microarray]   \n",
              "449  [epigenomics, metadata, proteomics, rna_seq, t...   \n",
              "450  [design, epigenomics, metadata, rna_seq, trans...   \n",
              "\n",
              "                            metadata_file_extensions  \\\n",
              "0          {'zip': ['OSD-1_metadata_OSD-1-ISA.zip']}   \n",
              "1      {'zip': ['OSD-100_metadata_OSD-100-ISA.zip']}   \n",
              "2    {'zip': ['GLDS-101_metadata_GLDS-101-ISA.zip']}   \n",
              "3      {'zip': ['OSD-102_metadata_OSD-102-ISA.zip']}   \n",
              "4      {'zip': ['OSD-103_metadata_OSD-103-ISA.zip']}   \n",
              "..                                               ...   \n",
              "446   {'zip': ['GLDS-95_metadata_GSE82341-ISA.zip']}   \n",
              "447    {'zip': ['GLDS-96_metadata_GLDS-96-ISA.zip']}   \n",
              "448    {'zip': ['GLDS-97_metadata_GSE9464-ISA.zip']}   \n",
              "449      {'zip': ['OSD-98_metadata_OSD-98-ISA.zip']}   \n",
              "450      {'zip': ['OSD-99_metadata_OSD-99-ISA.zip']}   \n",
              "\n",
              "                      metadata_filename  \\\n",
              "0          OSD-1_metadata_OSD-1-ISA.zip   \n",
              "1      OSD-100_metadata_OSD-100-ISA.zip   \n",
              "2    GLDS-101_metadata_GLDS-101-ISA.zip   \n",
              "3      OSD-102_metadata_OSD-102-ISA.zip   \n",
              "4      OSD-103_metadata_OSD-103-ISA.zip   \n",
              "..                                  ...   \n",
              "446   GLDS-95_metadata_GSE82341-ISA.zip   \n",
              "447    GLDS-96_metadata_GLDS-96-ISA.zip   \n",
              "448    GLDS-97_metadata_GSE9464-ISA.zip   \n",
              "449      OSD-98_metadata_OSD-98-ISA.zip   \n",
              "450      OSD-99_metadata_OSD-99-ISA.zip   \n",
              "\n",
              "                                         metadata_path  \n",
              "0    OSD-1/version-6/metadata/OSD-1_metadata_OSD-1-...  \n",
              "1    OSD-100/version-5/metadata/OSD-100_metadata_OS...  \n",
              "2    OSD-101/version-5/metadata/GLDS-101_metadata_G...  \n",
              "3    OSD-102/version-5/metadata/OSD-102_metadata_OS...  \n",
              "4    OSD-103/version-5/metadata/OSD-103_metadata_OS...  \n",
              "..                                                 ...  \n",
              "446  OSD-95/version-1/metadata/GLDS-95_metadata_GSE...  \n",
              "447  OSD-96/version-6/metadata/GLDS-96_metadata_GLD...  \n",
              "448  OSD-97/version-1/metadata/GLDS-97_metadata_GSE...  \n",
              "449  OSD-98/version-8/metadata/OSD-98_metadata_OSD-...  \n",
              "450  OSD-99/version-5/metadata/OSD-99_metadata_OSD-...  \n",
              "\n",
              "[451 rows x 7 columns]"
            ],
            "text/html": [
              "\n",
              "  <div id=\"df-283ccac3-ff1d-451a-afdb-b2c92bdfa344\" class=\"colab-df-container\">\n",
              "    <div>\n",
              "<style scoped>\n",
              "    .dataframe tbody tr th:only-of-type {\n",
              "        vertical-align: middle;\n",
              "    }\n",
              "\n",
              "    .dataframe tbody tr th {\n",
              "        vertical-align: top;\n",
              "    }\n",
              "\n",
              "    .dataframe thead th {\n",
              "        text-align: right;\n",
              "    }\n",
              "</style>\n",
              "<table border=\"1\" class=\"dataframe\">\n",
              "  <thead>\n",
              "    <tr style=\"text-align: right;\">\n",
              "      <th></th>\n",
              "      <th>experiment_id</th>\n",
              "      <th>total_versions</th>\n",
              "      <th>version</th>\n",
              "      <th>all_studies</th>\n",
              "      <th>metadata_file_extensions</th>\n",
              "      <th>metadata_filename</th>\n",
              "      <th>metadata_path</th>\n",
              "    </tr>\n",
              "  </thead>\n",
              "  <tbody>\n",
              "    <tr>\n",
              "      <th>0</th>\n",
              "      <td>OSD-1</td>\n",
              "      <td>1</td>\n",
              "      <td>6</td>\n",
              "      <td>[array, metadata, microarray]</td>\n",
              "      <td>{'zip': ['OSD-1_metadata_OSD-1-ISA.zip']}</td>\n",
              "      <td>OSD-1_metadata_OSD-1-ISA.zip</td>\n",
              "      <td>OSD-1/version-6/metadata/OSD-1_metadata_OSD-1-...</td>\n",
              "    </tr>\n",
              "    <tr>\n",
              "      <th>1</th>\n",
              "      <td>OSD-100</td>\n",
              "      <td>1</td>\n",
              "      <td>5</td>\n",
              "      <td>[design, metadata, rna-seq, rna_seq, wgbs]</td>\n",
              "      <td>{'zip': ['OSD-100_metadata_OSD-100-ISA.zip']}</td>\n",
              "      <td>OSD-100_metadata_OSD-100-ISA.zip</td>\n",
              "      <td>OSD-100/version-5/metadata/OSD-100_metadata_OS...</td>\n",
              "    </tr>\n",
              "    <tr>\n",
              "      <th>2</th>\n",
              "      <td>OSD-101</td>\n",
              "      <td>1</td>\n",
              "      <td>5</td>\n",
              "      <td>[epigenomics, epitranscriptomics, metadata, pr...</td>\n",
              "      <td>{'zip': ['GLDS-101_metadata_GLDS-101-ISA.zip']}</td>\n",
              "      <td>GLDS-101_metadata_GLDS-101-ISA.zip</td>\n",
              "      <td>OSD-101/version-5/metadata/GLDS-101_metadata_G...</td>\n",
              "    </tr>\n",
              "    <tr>\n",
              "      <th>3</th>\n",
              "      <td>OSD-102</td>\n",
              "      <td>1</td>\n",
              "      <td>5</td>\n",
              "      <td>[design, epigenomics, epitranscriptomics, meta...</td>\n",
              "      <td>{'zip': ['OSD-102_metadata_OSD-102-ISA.zip']}</td>\n",
              "      <td>OSD-102_metadata_OSD-102-ISA.zip</td>\n",
              "      <td>OSD-102/version-5/metadata/OSD-102_metadata_OS...</td>\n",
              "    </tr>\n",
              "    <tr>\n",
              "      <th>4</th>\n",
              "      <td>OSD-103</td>\n",
              "      <td>1</td>\n",
              "      <td>5</td>\n",
              "      <td>[design, metadata, proteomics, rna-seq, rna_se...</td>\n",
              "      <td>{'zip': ['OSD-103_metadata_OSD-103-ISA.zip']}</td>\n",
              "      <td>OSD-103_metadata_OSD-103-ISA.zip</td>\n",
              "      <td>OSD-103/version-5/metadata/OSD-103_metadata_OS...</td>\n",
              "    </tr>\n",
              "    <tr>\n",
              "      <th>...</th>\n",
              "      <td>...</td>\n",
              "      <td>...</td>\n",
              "      <td>...</td>\n",
              "      <td>...</td>\n",
              "      <td>...</td>\n",
              "      <td>...</td>\n",
              "      <td>...</td>\n",
              "    </tr>\n",
              "    <tr>\n",
              "      <th>446</th>\n",
              "      <td>OSD-95</td>\n",
              "      <td>1</td>\n",
              "      <td>1</td>\n",
              "      <td>[metadata, sequencing]</td>\n",
              "      <td>{'zip': ['GLDS-95_metadata_GSE82341-ISA.zip']}</td>\n",
              "      <td>GLDS-95_metadata_GSE82341-ISA.zip</td>\n",
              "      <td>OSD-95/version-1/metadata/GLDS-95_metadata_GSE...</td>\n",
              "    </tr>\n",
              "    <tr>\n",
              "      <th>447</th>\n",
              "      <td>OSD-96</td>\n",
              "      <td>1</td>\n",
              "      <td>6</td>\n",
              "      <td>[metadata, rna-seq, rna_seq]</td>\n",
              "      <td>{'zip': ['GLDS-96_metadata_GLDS-96-ISA.zip']}</td>\n",
              "      <td>GLDS-96_metadata_GLDS-96-ISA.zip</td>\n",
              "      <td>OSD-96/version-6/metadata/GLDS-96_metadata_GLD...</td>\n",
              "    </tr>\n",
              "    <tr>\n",
              "      <th>448</th>\n",
              "      <td>OSD-97</td>\n",
              "      <td>1</td>\n",
              "      <td>1</td>\n",
              "      <td>[metadata, microarray]</td>\n",
              "      <td>{'zip': ['GLDS-97_metadata_GSE9464-ISA.zip']}</td>\n",
              "      <td>GLDS-97_metadata_GSE9464-ISA.zip</td>\n",
              "      <td>OSD-97/version-1/metadata/GLDS-97_metadata_GSE...</td>\n",
              "    </tr>\n",
              "    <tr>\n",
              "      <th>449</th>\n",
              "      <td>OSD-98</td>\n",
              "      <td>1</td>\n",
              "      <td>8</td>\n",
              "      <td>[epigenomics, metadata, proteomics, rna_seq, t...</td>\n",
              "      <td>{'zip': ['OSD-98_metadata_OSD-98-ISA.zip']}</td>\n",
              "      <td>OSD-98_metadata_OSD-98-ISA.zip</td>\n",
              "      <td>OSD-98/version-8/metadata/OSD-98_metadata_OSD-...</td>\n",
              "    </tr>\n",
              "    <tr>\n",
              "      <th>450</th>\n",
              "      <td>OSD-99</td>\n",
              "      <td>1</td>\n",
              "      <td>5</td>\n",
              "      <td>[design, epigenomics, metadata, rna_seq, trans...</td>\n",
              "      <td>{'zip': ['OSD-99_metadata_OSD-99-ISA.zip']}</td>\n",
              "      <td>OSD-99_metadata_OSD-99-ISA.zip</td>\n",
              "      <td>OSD-99/version-5/metadata/OSD-99_metadata_OSD-...</td>\n",
              "    </tr>\n",
              "  </tbody>\n",
              "</table>\n",
              "<p>451 rows × 7 columns</p>\n",
              "</div>\n",
              "    <div class=\"colab-df-buttons\">\n",
              "\n",
              "  <div class=\"colab-df-container\">\n",
              "    <button class=\"colab-df-convert\" onclick=\"convertToInteractive('df-283ccac3-ff1d-451a-afdb-b2c92bdfa344')\"\n",
              "            title=\"Convert this dataframe to an interactive table.\"\n",
              "            style=\"display:none;\">\n",
              "\n",
              "  <svg xmlns=\"http://www.w3.org/2000/svg\" height=\"24px\" viewBox=\"0 -960 960 960\">\n",
              "    <path d=\"M120-120v-720h720v720H120Zm60-500h600v-160H180v160Zm220 220h160v-160H400v160Zm0 220h160v-160H400v160ZM180-400h160v-160H180v160Zm440 0h160v-160H620v160ZM180-180h160v-160H180v160Zm440 0h160v-160H620v160Z\"/>\n",
              "  </svg>\n",
              "    </button>\n",
              "\n",
              "  <style>\n",
              "    .colab-df-container {\n",
              "      display:flex;\n",
              "      gap: 12px;\n",
              "    }\n",
              "\n",
              "    .colab-df-convert {\n",
              "      background-color: #E8F0FE;\n",
              "      border: none;\n",
              "      border-radius: 50%;\n",
              "      cursor: pointer;\n",
              "      display: none;\n",
              "      fill: #1967D2;\n",
              "      height: 32px;\n",
              "      padding: 0 0 0 0;\n",
              "      width: 32px;\n",
              "    }\n",
              "\n",
              "    .colab-df-convert:hover {\n",
              "      background-color: #E2EBFA;\n",
              "      box-shadow: 0px 1px 2px rgba(60, 64, 67, 0.3), 0px 1px 3px 1px rgba(60, 64, 67, 0.15);\n",
              "      fill: #174EA6;\n",
              "    }\n",
              "\n",
              "    .colab-df-buttons div {\n",
              "      margin-bottom: 4px;\n",
              "    }\n",
              "\n",
              "    [theme=dark] .colab-df-convert {\n",
              "      background-color: #3B4455;\n",
              "      fill: #D2E3FC;\n",
              "    }\n",
              "\n",
              "    [theme=dark] .colab-df-convert:hover {\n",
              "      background-color: #434B5C;\n",
              "      box-shadow: 0px 1px 3px 1px rgba(0, 0, 0, 0.15);\n",
              "      filter: drop-shadow(0px 1px 2px rgba(0, 0, 0, 0.3));\n",
              "      fill: #FFFFFF;\n",
              "    }\n",
              "  </style>\n",
              "\n",
              "    <script>\n",
              "      const buttonEl =\n",
              "        document.querySelector('#df-283ccac3-ff1d-451a-afdb-b2c92bdfa344 button.colab-df-convert');\n",
              "      buttonEl.style.display =\n",
              "        google.colab.kernel.accessAllowed ? 'block' : 'none';\n",
              "\n",
              "      async function convertToInteractive(key) {\n",
              "        const element = document.querySelector('#df-283ccac3-ff1d-451a-afdb-b2c92bdfa344');\n",
              "        const dataTable =\n",
              "          await google.colab.kernel.invokeFunction('convertToInteractive',\n",
              "                                                    [key], {});\n",
              "        if (!dataTable) return;\n",
              "\n",
              "        const docLinkHtml = 'Like what you see? Visit the ' +\n",
              "          '<a target=\"_blank\" href=https://colab.research.google.com/notebooks/data_table.ipynb>data table notebook</a>'\n",
              "          + ' to learn more about interactive tables.';\n",
              "        element.innerHTML = '';\n",
              "        dataTable['output_type'] = 'display_data';\n",
              "        await google.colab.output.renderOutput(dataTable, element);\n",
              "        const docLink = document.createElement('div');\n",
              "        docLink.innerHTML = docLinkHtml;\n",
              "        element.appendChild(docLink);\n",
              "      }\n",
              "    </script>\n",
              "  </div>\n",
              "\n",
              "\n",
              "<div id=\"df-714727fd-29a0-4036-8e78-0dcef5e52b0b\">\n",
              "  <button class=\"colab-df-quickchart\" onclick=\"quickchart('df-714727fd-29a0-4036-8e78-0dcef5e52b0b')\"\n",
              "            title=\"Suggest charts.\"\n",
              "            style=\"display:none;\">\n",
              "\n",
              "<svg xmlns=\"http://www.w3.org/2000/svg\" height=\"24px\"viewBox=\"0 0 24 24\"\n",
              "     width=\"24px\">\n",
              "    <g>\n",
              "        <path d=\"M19 3H5c-1.1 0-2 .9-2 2v14c0 1.1.9 2 2 2h14c1.1 0 2-.9 2-2V5c0-1.1-.9-2-2-2zM9 17H7v-7h2v7zm4 0h-2V7h2v10zm4 0h-2v-4h2v4z\"/>\n",
              "    </g>\n",
              "</svg>\n",
              "  </button>\n",
              "\n",
              "<style>\n",
              "  .colab-df-quickchart {\n",
              "      --bg-color: #E8F0FE;\n",
              "      --fill-color: #1967D2;\n",
              "      --hover-bg-color: #E2EBFA;\n",
              "      --hover-fill-color: #174EA6;\n",
              "      --disabled-fill-color: #AAA;\n",
              "      --disabled-bg-color: #DDD;\n",
              "  }\n",
              "\n",
              "  [theme=dark] .colab-df-quickchart {\n",
              "      --bg-color: #3B4455;\n",
              "      --fill-color: #D2E3FC;\n",
              "      --hover-bg-color: #434B5C;\n",
              "      --hover-fill-color: #FFFFFF;\n",
              "      --disabled-bg-color: #3B4455;\n",
              "      --disabled-fill-color: #666;\n",
              "  }\n",
              "\n",
              "  .colab-df-quickchart {\n",
              "    background-color: var(--bg-color);\n",
              "    border: none;\n",
              "    border-radius: 50%;\n",
              "    cursor: pointer;\n",
              "    display: none;\n",
              "    fill: var(--fill-color);\n",
              "    height: 32px;\n",
              "    padding: 0;\n",
              "    width: 32px;\n",
              "  }\n",
              "\n",
              "  .colab-df-quickchart:hover {\n",
              "    background-color: var(--hover-bg-color);\n",
              "    box-shadow: 0 1px 2px rgba(60, 64, 67, 0.3), 0 1px 3px 1px rgba(60, 64, 67, 0.15);\n",
              "    fill: var(--button-hover-fill-color);\n",
              "  }\n",
              "\n",
              "  .colab-df-quickchart-complete:disabled,\n",
              "  .colab-df-quickchart-complete:disabled:hover {\n",
              "    background-color: var(--disabled-bg-color);\n",
              "    fill: var(--disabled-fill-color);\n",
              "    box-shadow: none;\n",
              "  }\n",
              "\n",
              "  .colab-df-spinner {\n",
              "    border: 2px solid var(--fill-color);\n",
              "    border-color: transparent;\n",
              "    border-bottom-color: var(--fill-color);\n",
              "    animation:\n",
              "      spin 1s steps(1) infinite;\n",
              "  }\n",
              "\n",
              "  @keyframes spin {\n",
              "    0% {\n",
              "      border-color: transparent;\n",
              "      border-bottom-color: var(--fill-color);\n",
              "      border-left-color: var(--fill-color);\n",
              "    }\n",
              "    20% {\n",
              "      border-color: transparent;\n",
              "      border-left-color: var(--fill-color);\n",
              "      border-top-color: var(--fill-color);\n",
              "    }\n",
              "    30% {\n",
              "      border-color: transparent;\n",
              "      border-left-color: var(--fill-color);\n",
              "      border-top-color: var(--fill-color);\n",
              "      border-right-color: var(--fill-color);\n",
              "    }\n",
              "    40% {\n",
              "      border-color: transparent;\n",
              "      border-right-color: var(--fill-color);\n",
              "      border-top-color: var(--fill-color);\n",
              "    }\n",
              "    60% {\n",
              "      border-color: transparent;\n",
              "      border-right-color: var(--fill-color);\n",
              "    }\n",
              "    80% {\n",
              "      border-color: transparent;\n",
              "      border-right-color: var(--fill-color);\n",
              "      border-bottom-color: var(--fill-color);\n",
              "    }\n",
              "    90% {\n",
              "      border-color: transparent;\n",
              "      border-bottom-color: var(--fill-color);\n",
              "    }\n",
              "  }\n",
              "</style>\n",
              "\n",
              "  <script>\n",
              "    async function quickchart(key) {\n",
              "      const quickchartButtonEl =\n",
              "        document.querySelector('#' + key + ' button');\n",
              "      quickchartButtonEl.disabled = true;  // To prevent multiple clicks.\n",
              "      quickchartButtonEl.classList.add('colab-df-spinner');\n",
              "      try {\n",
              "        const charts = await google.colab.kernel.invokeFunction(\n",
              "            'suggestCharts', [key], {});\n",
              "      } catch (error) {\n",
              "        console.error('Error during call to suggestCharts:', error);\n",
              "      }\n",
              "      quickchartButtonEl.classList.remove('colab-df-spinner');\n",
              "      quickchartButtonEl.classList.add('colab-df-quickchart-complete');\n",
              "    }\n",
              "    (() => {\n",
              "      let quickchartButtonEl =\n",
              "        document.querySelector('#df-714727fd-29a0-4036-8e78-0dcef5e52b0b button');\n",
              "      quickchartButtonEl.style.display =\n",
              "        google.colab.kernel.accessAllowed ? 'block' : 'none';\n",
              "    })();\n",
              "  </script>\n",
              "</div>\n",
              "    </div>\n",
              "  </div>\n"
            ]
          },
          "metadata": {},
          "execution_count": 63
        },
        {
          "output_type": "stream",
          "name": "stdout",
          "text": [
            "Error: Runtime no longer has a reference to this dataframe, please re-run this cell and try again.\n",
            "Error: Runtime no longer has a reference to this dataframe, please re-run this cell and try again.\n"
          ]
        }
      ]
    },
    {
      "cell_type": "markdown",
      "source": [
        "## Download metadata zip files"
      ],
      "metadata": {
        "id": "otKOQVdaNr63"
      }
    },
    {
      "cell_type": "code",
      "source": [
        "DOWNLOAD_DIR = \"download_dir\"\n",
        "os.makedirs(DOWNLOAD_DIR, exist_ok=True)"
      ],
      "metadata": {
        "id": "77e4Hf31N89b"
      },
      "execution_count": 68,
      "outputs": []
    },
    {
      "cell_type": "code",
      "source": [
        "def download_single_metadata_zip(metadata_path, metadata_filename):\n",
        "    local_metadata_path = \"\"\n",
        "    if metadata_filename:\n",
        "        local_metadata_path = os.path.join(DOWNLOAD_DIR, metadata_filename)\n",
        "        CLIENT.download_file(BUCKET_NAME, metadata_path, local_metadata_path)\n",
        "    return local_metadata_path"
      ],
      "metadata": {
        "id": "_ja4_5zhOLOZ"
      },
      "execution_count": 95,
      "outputs": []
    },
    {
      "cell_type": "code",
      "source": [
        "stats['local_metadata_path'] = stats[['metadata_filename', 'metadata_path']].progress_apply(lambda x: download_single_metadata_zip(**x.to_dict()), axis=1)"
      ],
      "metadata": {
        "colab": {
          "base_uri": "https://localhost:8080/"
        },
        "id": "nAMaS6Op4_7Z",
        "outputId": "cd835ac4-4869-4345-fdf4-1f64d3f61a53"
      },
      "execution_count": 96,
      "outputs": [
        {
          "output_type": "stream",
          "name": "stderr",
          "text": [
            "100%|██████████| 451/451 [01:20<00:00,  5.60it/s]\n"
          ]
        }
      ]
    },
    {
      "cell_type": "markdown",
      "source": [
        "## Analyze tabular files in metadata zips"
      ],
      "metadata": {
        "id": "IfGyNx9IRlEa"
      }
    },
    {
      "cell_type": "code",
      "source": [
        "def list_filenames_in_zip(local_file_path):\n",
        "    filenames = []\n",
        "    if local_file_path:\n",
        "        filenames = [x.filename for x in zipfile.ZipFile(local_file_path, 'r').infolist() if not x.filename.endswith('/') and not x.filename.endswith('DS_Store')]\n",
        "\n",
        "    return filenames"
      ],
      "metadata": {
        "id": "k-0qDUqlTm-M"
      },
      "execution_count": 174,
      "outputs": []
    },
    {
      "cell_type": "code",
      "source": [
        "stats['metadata_filenames'] = stats['local_metadata_path'].progress_apply(list_filenames_in_zip)"
      ],
      "metadata": {
        "colab": {
          "base_uri": "https://localhost:8080/"
        },
        "id": "HrHZ7nv8T59E",
        "outputId": "b4345e8a-122f-4863-ce8b-374be89ffea1"
      },
      "execution_count": 175,
      "outputs": [
        {
          "output_type": "stream",
          "name": "stderr",
          "text": [
            "100%|██████████| 451/451 [00:00<00:00, 12488.40it/s]\n"
          ]
        }
      ]
    },
    {
      "cell_type": "markdown",
      "source": [
        "#### Check file types in metadata_zips"
      ],
      "metadata": {
        "id": "2nUmIBRHZC9Z"
      }
    },
    {
      "cell_type": "code",
      "source": [
        "pd.Series(stats['metadata_filenames'].apply(\n",
        "    lambda x: list(set([item.split('.')[-1] for item in x]))\n",
        ").sum()).value_counts()"
      ],
      "metadata": {
        "colab": {
          "base_uri": "https://localhost:8080/"
        },
        "id": "nbQBrWN9YV9t",
        "outputId": "6bd9416e-60d1-4b59-dd6d-87ad9bd7027b"
      },
      "execution_count": 176,
      "outputs": [
        {
          "output_type": "execute_result",
          "data": {
            "text/plain": [
              "txt    449\n",
              "zip      2\n",
              "dtype: int64"
            ]
          },
          "metadata": {},
          "execution_count": 176
        }
      ]
    },
    {
      "cell_type": "markdown",
      "source": [
        "#### Try to match study names with metadata files using exact match"
      ],
      "metadata": {
        "id": "dnc2QOZzbvwa"
      }
    },
    {
      "cell_type": "code",
      "source": [
        "def match_study_with_file(all_studies, metadata_filenames):\n",
        "    matches = {}\n",
        "    for study in all_studies:\n",
        "      if study != 'metadata':\n",
        "          matches[study] = []\n",
        "          for filename in metadata_filenames:\n",
        "              if study.lower() in filename.lower():\n",
        "                  matches[study].append(filename)\n",
        "\n",
        "    return matches"
      ],
      "metadata": {
        "id": "pE3kpMG-ZW_1"
      },
      "execution_count": 177,
      "outputs": []
    },
    {
      "cell_type": "code",
      "source": [
        "stats['study_metadata_filenames'] = stats[['all_studies', 'metadata_filenames']].progress_apply(lambda x: match_study_with_file(**x.to_dict()), axis=1)"
      ],
      "metadata": {
        "colab": {
          "base_uri": "https://localhost:8080/"
        },
        "id": "UT7WL14iZRjh",
        "outputId": "04b5f192-c7da-4325-9766-28d62e9afe53"
      },
      "execution_count": 178,
      "outputs": [
        {
          "output_type": "stream",
          "name": "stderr",
          "text": [
            "100%|██████████| 451/451 [00:00<00:00, 29111.87it/s]\n"
          ]
        }
      ]
    },
    {
      "cell_type": "code",
      "source": [
        "stats['study_metadata_filenames'].apply(lambda x: sum(len(item) for item in x.values())).value_counts()"
      ],
      "metadata": {
        "colab": {
          "base_uri": "https://localhost:8080/"
        },
        "id": "bJNGLccjZWr_",
        "outputId": "9eb5866b-1372-46e4-ecc0-1fd63bf3077f"
      },
      "execution_count": 179,
      "outputs": [
        {
          "output_type": "execute_result",
          "data": {
            "text/plain": [
              "1    186\n",
              "0    175\n",
              "2     83\n",
              "3      4\n",
              "6      2\n",
              "4      1\n",
              "Name: study_metadata_filenames, dtype: int64"
            ]
          },
          "metadata": {},
          "execution_count": 179
        }
      ]
    },
    {
      "cell_type": "code",
      "source": [
        "stats['all_studies'].apply(lambda x: len(x)-1).value_counts()"
      ],
      "metadata": {
        "colab": {
          "base_uri": "https://localhost:8080/"
        },
        "id": "6zcbHzupbpFG",
        "outputId": "f1abc4e3-9e4e-4893-e6e3-7f98b0cad6fe"
      },
      "execution_count": 180,
      "outputs": [
        {
          "output_type": "execute_result",
          "data": {
            "text/plain": [
              "1    232\n",
              "2    177\n",
              "4     18\n",
              "3     15\n",
              "6      4\n",
              "5      4\n",
              "7      1\n",
              "Name: all_studies, dtype: int64"
            ]
          },
          "metadata": {},
          "execution_count": 180
        }
      ]
    },
    {
      "cell_type": "markdown",
      "source": [
        "## Detect Samples Metadata Tables"
      ],
      "metadata": {
        "id": "I9ReLgii0uX6"
      }
    },
    {
      "cell_type": "code",
      "source": [
        "stats.head(1).T"
      ],
      "metadata": {
        "colab": {
          "base_uri": "https://localhost:8080/",
          "height": 394
        },
        "id": "-8ocFjAb3dOq",
        "outputId": "c5f8294a-86bd-446b-f466-956f252d19ad"
      },
      "execution_count": 192,
      "outputs": [
        {
          "output_type": "execute_result",
          "data": {
            "text/plain": [
              "                                                                                0\n",
              "experiment_id                                                               OSD-1\n",
              "total_versions                                                                  1\n",
              "version                                                                         6\n",
              "all_studies                                         [array, metadata, microarray]\n",
              "metadata_file_extensions                {'zip': ['OSD-1_metadata_OSD-1-ISA.zip']}\n",
              "metadata_filename                                    OSD-1_metadata_OSD-1-ISA.zip\n",
              "metadata_path                   OSD-1/version-6/metadata/OSD-1_metadata_OSD-1-...\n",
              "local_metadata_path                     download_dir/OSD-1_metadata_OSD-1-ISA.zip\n",
              "metadata_filenames              [s_OSD-1.txt, i_Investigation.txt, a_OSD-1_tra...\n",
              "study_metadata_filenames        {'array': ['a_OSD-1_transcription-profiling_dn...\n",
              "study_metadata_filenames_fuzzy                    {'array': [], 'microarray': []}"
            ],
            "text/html": [
              "\n",
              "  <div id=\"df-d0492dd8-5231-4f0c-894d-fa8894706fb2\" class=\"colab-df-container\">\n",
              "    <div>\n",
              "<style scoped>\n",
              "    .dataframe tbody tr th:only-of-type {\n",
              "        vertical-align: middle;\n",
              "    }\n",
              "\n",
              "    .dataframe tbody tr th {\n",
              "        vertical-align: top;\n",
              "    }\n",
              "\n",
              "    .dataframe thead th {\n",
              "        text-align: right;\n",
              "    }\n",
              "</style>\n",
              "<table border=\"1\" class=\"dataframe\">\n",
              "  <thead>\n",
              "    <tr style=\"text-align: right;\">\n",
              "      <th></th>\n",
              "      <th>0</th>\n",
              "    </tr>\n",
              "  </thead>\n",
              "  <tbody>\n",
              "    <tr>\n",
              "      <th>experiment_id</th>\n",
              "      <td>OSD-1</td>\n",
              "    </tr>\n",
              "    <tr>\n",
              "      <th>total_versions</th>\n",
              "      <td>1</td>\n",
              "    </tr>\n",
              "    <tr>\n",
              "      <th>version</th>\n",
              "      <td>6</td>\n",
              "    </tr>\n",
              "    <tr>\n",
              "      <th>all_studies</th>\n",
              "      <td>[array, metadata, microarray]</td>\n",
              "    </tr>\n",
              "    <tr>\n",
              "      <th>metadata_file_extensions</th>\n",
              "      <td>{'zip': ['OSD-1_metadata_OSD-1-ISA.zip']}</td>\n",
              "    </tr>\n",
              "    <tr>\n",
              "      <th>metadata_filename</th>\n",
              "      <td>OSD-1_metadata_OSD-1-ISA.zip</td>\n",
              "    </tr>\n",
              "    <tr>\n",
              "      <th>metadata_path</th>\n",
              "      <td>OSD-1/version-6/metadata/OSD-1_metadata_OSD-1-...</td>\n",
              "    </tr>\n",
              "    <tr>\n",
              "      <th>local_metadata_path</th>\n",
              "      <td>download_dir/OSD-1_metadata_OSD-1-ISA.zip</td>\n",
              "    </tr>\n",
              "    <tr>\n",
              "      <th>metadata_filenames</th>\n",
              "      <td>[s_OSD-1.txt, i_Investigation.txt, a_OSD-1_tra...</td>\n",
              "    </tr>\n",
              "    <tr>\n",
              "      <th>study_metadata_filenames</th>\n",
              "      <td>{'array': ['a_OSD-1_transcription-profiling_dn...</td>\n",
              "    </tr>\n",
              "    <tr>\n",
              "      <th>study_metadata_filenames_fuzzy</th>\n",
              "      <td>{'array': [], 'microarray': []}</td>\n",
              "    </tr>\n",
              "  </tbody>\n",
              "</table>\n",
              "</div>\n",
              "    <div class=\"colab-df-buttons\">\n",
              "\n",
              "  <div class=\"colab-df-container\">\n",
              "    <button class=\"colab-df-convert\" onclick=\"convertToInteractive('df-d0492dd8-5231-4f0c-894d-fa8894706fb2')\"\n",
              "            title=\"Convert this dataframe to an interactive table.\"\n",
              "            style=\"display:none;\">\n",
              "\n",
              "  <svg xmlns=\"http://www.w3.org/2000/svg\" height=\"24px\" viewBox=\"0 -960 960 960\">\n",
              "    <path d=\"M120-120v-720h720v720H120Zm60-500h600v-160H180v160Zm220 220h160v-160H400v160Zm0 220h160v-160H400v160ZM180-400h160v-160H180v160Zm440 0h160v-160H620v160ZM180-180h160v-160H180v160Zm440 0h160v-160H620v160Z\"/>\n",
              "  </svg>\n",
              "    </button>\n",
              "\n",
              "  <style>\n",
              "    .colab-df-container {\n",
              "      display:flex;\n",
              "      gap: 12px;\n",
              "    }\n",
              "\n",
              "    .colab-df-convert {\n",
              "      background-color: #E8F0FE;\n",
              "      border: none;\n",
              "      border-radius: 50%;\n",
              "      cursor: pointer;\n",
              "      display: none;\n",
              "      fill: #1967D2;\n",
              "      height: 32px;\n",
              "      padding: 0 0 0 0;\n",
              "      width: 32px;\n",
              "    }\n",
              "\n",
              "    .colab-df-convert:hover {\n",
              "      background-color: #E2EBFA;\n",
              "      box-shadow: 0px 1px 2px rgba(60, 64, 67, 0.3), 0px 1px 3px 1px rgba(60, 64, 67, 0.15);\n",
              "      fill: #174EA6;\n",
              "    }\n",
              "\n",
              "    .colab-df-buttons div {\n",
              "      margin-bottom: 4px;\n",
              "    }\n",
              "\n",
              "    [theme=dark] .colab-df-convert {\n",
              "      background-color: #3B4455;\n",
              "      fill: #D2E3FC;\n",
              "    }\n",
              "\n",
              "    [theme=dark] .colab-df-convert:hover {\n",
              "      background-color: #434B5C;\n",
              "      box-shadow: 0px 1px 3px 1px rgba(0, 0, 0, 0.15);\n",
              "      filter: drop-shadow(0px 1px 2px rgba(0, 0, 0, 0.3));\n",
              "      fill: #FFFFFF;\n",
              "    }\n",
              "  </style>\n",
              "\n",
              "    <script>\n",
              "      const buttonEl =\n",
              "        document.querySelector('#df-d0492dd8-5231-4f0c-894d-fa8894706fb2 button.colab-df-convert');\n",
              "      buttonEl.style.display =\n",
              "        google.colab.kernel.accessAllowed ? 'block' : 'none';\n",
              "\n",
              "      async function convertToInteractive(key) {\n",
              "        const element = document.querySelector('#df-d0492dd8-5231-4f0c-894d-fa8894706fb2');\n",
              "        const dataTable =\n",
              "          await google.colab.kernel.invokeFunction('convertToInteractive',\n",
              "                                                    [key], {});\n",
              "        if (!dataTable) return;\n",
              "\n",
              "        const docLinkHtml = 'Like what you see? Visit the ' +\n",
              "          '<a target=\"_blank\" href=https://colab.research.google.com/notebooks/data_table.ipynb>data table notebook</a>'\n",
              "          + ' to learn more about interactive tables.';\n",
              "        element.innerHTML = '';\n",
              "        dataTable['output_type'] = 'display_data';\n",
              "        await google.colab.output.renderOutput(dataTable, element);\n",
              "        const docLink = document.createElement('div');\n",
              "        docLink.innerHTML = docLinkHtml;\n",
              "        element.appendChild(docLink);\n",
              "      }\n",
              "    </script>\n",
              "  </div>\n",
              "\n",
              "\n",
              "<div id=\"df-78b4f5b6-5d60-4fba-a621-fda4eaa86db8\">\n",
              "  <button class=\"colab-df-quickchart\" onclick=\"quickchart('df-78b4f5b6-5d60-4fba-a621-fda4eaa86db8')\"\n",
              "            title=\"Suggest charts.\"\n",
              "            style=\"display:none;\">\n",
              "\n",
              "<svg xmlns=\"http://www.w3.org/2000/svg\" height=\"24px\"viewBox=\"0 0 24 24\"\n",
              "     width=\"24px\">\n",
              "    <g>\n",
              "        <path d=\"M19 3H5c-1.1 0-2 .9-2 2v14c0 1.1.9 2 2 2h14c1.1 0 2-.9 2-2V5c0-1.1-.9-2-2-2zM9 17H7v-7h2v7zm4 0h-2V7h2v10zm4 0h-2v-4h2v4z\"/>\n",
              "    </g>\n",
              "</svg>\n",
              "  </button>\n",
              "\n",
              "<style>\n",
              "  .colab-df-quickchart {\n",
              "      --bg-color: #E8F0FE;\n",
              "      --fill-color: #1967D2;\n",
              "      --hover-bg-color: #E2EBFA;\n",
              "      --hover-fill-color: #174EA6;\n",
              "      --disabled-fill-color: #AAA;\n",
              "      --disabled-bg-color: #DDD;\n",
              "  }\n",
              "\n",
              "  [theme=dark] .colab-df-quickchart {\n",
              "      --bg-color: #3B4455;\n",
              "      --fill-color: #D2E3FC;\n",
              "      --hover-bg-color: #434B5C;\n",
              "      --hover-fill-color: #FFFFFF;\n",
              "      --disabled-bg-color: #3B4455;\n",
              "      --disabled-fill-color: #666;\n",
              "  }\n",
              "\n",
              "  .colab-df-quickchart {\n",
              "    background-color: var(--bg-color);\n",
              "    border: none;\n",
              "    border-radius: 50%;\n",
              "    cursor: pointer;\n",
              "    display: none;\n",
              "    fill: var(--fill-color);\n",
              "    height: 32px;\n",
              "    padding: 0;\n",
              "    width: 32px;\n",
              "  }\n",
              "\n",
              "  .colab-df-quickchart:hover {\n",
              "    background-color: var(--hover-bg-color);\n",
              "    box-shadow: 0 1px 2px rgba(60, 64, 67, 0.3), 0 1px 3px 1px rgba(60, 64, 67, 0.15);\n",
              "    fill: var(--button-hover-fill-color);\n",
              "  }\n",
              "\n",
              "  .colab-df-quickchart-complete:disabled,\n",
              "  .colab-df-quickchart-complete:disabled:hover {\n",
              "    background-color: var(--disabled-bg-color);\n",
              "    fill: var(--disabled-fill-color);\n",
              "    box-shadow: none;\n",
              "  }\n",
              "\n",
              "  .colab-df-spinner {\n",
              "    border: 2px solid var(--fill-color);\n",
              "    border-color: transparent;\n",
              "    border-bottom-color: var(--fill-color);\n",
              "    animation:\n",
              "      spin 1s steps(1) infinite;\n",
              "  }\n",
              "\n",
              "  @keyframes spin {\n",
              "    0% {\n",
              "      border-color: transparent;\n",
              "      border-bottom-color: var(--fill-color);\n",
              "      border-left-color: var(--fill-color);\n",
              "    }\n",
              "    20% {\n",
              "      border-color: transparent;\n",
              "      border-left-color: var(--fill-color);\n",
              "      border-top-color: var(--fill-color);\n",
              "    }\n",
              "    30% {\n",
              "      border-color: transparent;\n",
              "      border-left-color: var(--fill-color);\n",
              "      border-top-color: var(--fill-color);\n",
              "      border-right-color: var(--fill-color);\n",
              "    }\n",
              "    40% {\n",
              "      border-color: transparent;\n",
              "      border-right-color: var(--fill-color);\n",
              "      border-top-color: var(--fill-color);\n",
              "    }\n",
              "    60% {\n",
              "      border-color: transparent;\n",
              "      border-right-color: var(--fill-color);\n",
              "    }\n",
              "    80% {\n",
              "      border-color: transparent;\n",
              "      border-right-color: var(--fill-color);\n",
              "      border-bottom-color: var(--fill-color);\n",
              "    }\n",
              "    90% {\n",
              "      border-color: transparent;\n",
              "      border-bottom-color: var(--fill-color);\n",
              "    }\n",
              "  }\n",
              "</style>\n",
              "\n",
              "  <script>\n",
              "    async function quickchart(key) {\n",
              "      const quickchartButtonEl =\n",
              "        document.querySelector('#' + key + ' button');\n",
              "      quickchartButtonEl.disabled = true;  // To prevent multiple clicks.\n",
              "      quickchartButtonEl.classList.add('colab-df-spinner');\n",
              "      try {\n",
              "        const charts = await google.colab.kernel.invokeFunction(\n",
              "            'suggestCharts', [key], {});\n",
              "      } catch (error) {\n",
              "        console.error('Error during call to suggestCharts:', error);\n",
              "      }\n",
              "      quickchartButtonEl.classList.remove('colab-df-spinner');\n",
              "      quickchartButtonEl.classList.add('colab-df-quickchart-complete');\n",
              "    }\n",
              "    (() => {\n",
              "      let quickchartButtonEl =\n",
              "        document.querySelector('#df-78b4f5b6-5d60-4fba-a621-fda4eaa86db8 button');\n",
              "      quickchartButtonEl.style.display =\n",
              "        google.colab.kernel.accessAllowed ? 'block' : 'none';\n",
              "    })();\n",
              "  </script>\n",
              "</div>\n",
              "    </div>\n",
              "  </div>\n"
            ]
          },
          "metadata": {},
          "execution_count": 192
        }
      ]
    },
    {
      "cell_type": "code",
      "source": [
        "!pip install chardet"
      ],
      "metadata": {
        "colab": {
          "base_uri": "https://localhost:8080/"
        },
        "id": "RfYCl8_ACY4A",
        "outputId": "56154604-c39b-460b-add6-b27feff79bbf"
      },
      "execution_count": 245,
      "outputs": [
        {
          "output_type": "stream",
          "name": "stdout",
          "text": [
            "Requirement already satisfied: chardet in /usr/local/lib/python3.10/dist-packages (5.2.0)\n"
          ]
        }
      ]
    },
    {
      "cell_type": "code",
      "source": [
        "def read_from_metadata_zip(metadata_zip_path, file_path):\n",
        "    print(metadata_zip_path, file_path)\n",
        "    file_content = None\n",
        "    with zipfile.ZipFile(metadata_zip_path, 'r') as zip_fp:\n",
        "        with zip_fp.open(file_path, 'r') as file_fp:\n",
        "            file_content = file_fp.read()\n",
        "    return file_content\n",
        "\n",
        "def detect_encoding(fp):\n",
        "    import chardet\n",
        "    detector = chardet.universaldetector.UniversalDetector()\n",
        "    for line in fp:\n",
        "        detector.feed(line)\n",
        "        if detector.done:\n",
        "            break\n",
        "    detector.close()\n",
        "    encoding = detector.result['encoding']\n",
        "\n",
        "    return encoding\n",
        "\n",
        "def read_df_with_right_encoding(fp, encoding='utf-8'):\n",
        "    df = pd.DataFrame()\n",
        "    # try passed encoding first\n",
        "    try:\n",
        "        df = pd.read_csv(fp, delimiter='\\t', encoding=encoding)\n",
        "    except:\n",
        "        # try utf-8\n",
        "        try:\n",
        "            df = pd.read_csv(fp, delimiter='\\t', encoding='utf-8')\n",
        "        except:\n",
        "            try:\n",
        "                df = pd.read_csv(fp, delimiter='\\t', encoding='windows-1252')\n",
        "            except:\n",
        "                pass\n",
        "    return df\n",
        "\n",
        "def read_dataframe_from_zip(metadata_zip_path, file_path):\n",
        "    df = pd.DataFrame()\n",
        "    encoding = 'utf-8'\n",
        "    with zipfile.ZipFile(metadata_zip_path, 'r') as zip_fp:\n",
        "        with zip_fp.open(file_path, 'r') as file_fp:\n",
        "            possible_encoding = detect_encoding(file_fp)\n",
        "        with zip_fp.open(file_path, 'r') as file_fp:\n",
        "            df = read_df_with_right_encoding(file_fp, possible_encoding)\n",
        "\n",
        "    return df\n",
        "\n",
        "def is_sample_table(df):\n",
        "    lower_columns = [x.lower() for x in df.columns]\n",
        "    is_sample_table = sum([x in lower_columns for x in ['source name', 'sample name']]) == 2\n",
        "    return is_sample_table"
      ],
      "metadata": {
        "id": "WyXJecKz_3b7"
      },
      "execution_count": 328,
      "outputs": []
    },
    {
      "cell_type": "code",
      "source": [
        "stats['metadata_sample_filenames'] = stats[['local_metadata_path', 'metadata_filenames']].progress_apply(\n",
        "    lambda x: {\n",
        "        metadata_filename: is_sample_table(\n",
        "            read_dataframe_from_zip(\n",
        "                x['local_metadata_path'], metadata_filename\n",
        "            )\n",
        "        )\n",
        "        for metadata_filename in x['metadata_filenames']\n",
        "    },\n",
        "    axis=1\n",
        ")"
      ],
      "metadata": {
        "colab": {
          "base_uri": "https://localhost:8080/"
        },
        "id": "N7LLP9AYalFE",
        "outputId": "453a1fa9-a981-4aa0-b395-74d52b1c1555"
      },
      "execution_count": 342,
      "outputs": [
        {
          "output_type": "stream",
          "name": "stderr",
          "text": [
            "100%|██████████| 451/451 [00:52<00:00,  8.60it/s]\n"
          ]
        }
      ]
    },
    {
      "cell_type": "code",
      "source": [
        "stats['metadata_sample_filenames'].apply(\n",
        "    lambda x: sum(list(x.values()))\n",
        ").value_counts()"
      ],
      "metadata": {
        "colab": {
          "base_uri": "https://localhost:8080/"
        },
        "id": "Tton1ieGJsbX",
        "outputId": "dc3caaed-3c83-4a99-9c7c-8a8f25b49305"
      },
      "execution_count": 343,
      "outputs": [
        {
          "output_type": "execute_result",
          "data": {
            "text/plain": [
              "1    449\n",
              "0      2\n",
              "Name: metadata_sample_filenames, dtype: int64"
            ]
          },
          "metadata": {},
          "execution_count": 343
        }
      ]
    },
    {
      "cell_type": "markdown",
      "source": [
        "## Merge All Samples Tables"
      ],
      "metadata": {
        "id": "W9w663d6aTuQ"
      }
    },
    {
      "cell_type": "code",
      "source": [
        "stats['metadata_sample_filename'] = stats['metadata_sample_filenames'].apply(\n",
        "    lambda x: [file for file, is_sample_table in x.items() if is_sample_table is True]\n",
        ").apply(lambda x: x[0] if x else \"\")"
      ],
      "metadata": {
        "id": "1-AJzpUSbelb"
      },
      "execution_count": 347,
      "outputs": []
    },
    {
      "cell_type": "code",
      "source": [
        "stats.head(1).T"
      ],
      "metadata": {
        "colab": {
          "base_uri": "https://localhost:8080/",
          "height": 425
        },
        "id": "GQs0o2zbdb6Q",
        "outputId": "64bde90b-2af0-458e-fc00-75c76e321efa"
      },
      "execution_count": 358,
      "outputs": [
        {
          "output_type": "execute_result",
          "data": {
            "text/plain": [
              "                                                                           0\n",
              "experiment_id                                                          OSD-1\n",
              "total_versions                                                             1\n",
              "version                                                                    6\n",
              "all_studies                                    [array, metadata, microarray]\n",
              "metadata_file_extensions           {'zip': ['OSD-1_metadata_OSD-1-ISA.zip']}\n",
              "metadata_filename                               OSD-1_metadata_OSD-1-ISA.zip\n",
              "metadata_path              OSD-1/version-6/metadata/OSD-1_metadata_OSD-1-...\n",
              "local_metadata_path                download_dir/OSD-1_metadata_OSD-1-ISA.zip\n",
              "metadata_filenames         [s_OSD-1.txt, i_Investigation.txt, a_OSD-1_tra...\n",
              "study_metadata_filenames   {'array': ['a_OSD-1_transcription-profiling_dn...\n",
              "metadata_sample_filenames  {'s_OSD-1.txt': True, 'i_Investigation.txt': F...\n",
              "metadata_sample_filename                                         s_OSD-1.txt"
            ],
            "text/html": [
              "\n",
              "  <div id=\"df-fc65a8b9-dfb9-4a91-a986-7ad8cf985102\" class=\"colab-df-container\">\n",
              "    <div>\n",
              "<style scoped>\n",
              "    .dataframe tbody tr th:only-of-type {\n",
              "        vertical-align: middle;\n",
              "    }\n",
              "\n",
              "    .dataframe tbody tr th {\n",
              "        vertical-align: top;\n",
              "    }\n",
              "\n",
              "    .dataframe thead th {\n",
              "        text-align: right;\n",
              "    }\n",
              "</style>\n",
              "<table border=\"1\" class=\"dataframe\">\n",
              "  <thead>\n",
              "    <tr style=\"text-align: right;\">\n",
              "      <th></th>\n",
              "      <th>0</th>\n",
              "    </tr>\n",
              "  </thead>\n",
              "  <tbody>\n",
              "    <tr>\n",
              "      <th>experiment_id</th>\n",
              "      <td>OSD-1</td>\n",
              "    </tr>\n",
              "    <tr>\n",
              "      <th>total_versions</th>\n",
              "      <td>1</td>\n",
              "    </tr>\n",
              "    <tr>\n",
              "      <th>version</th>\n",
              "      <td>6</td>\n",
              "    </tr>\n",
              "    <tr>\n",
              "      <th>all_studies</th>\n",
              "      <td>[array, metadata, microarray]</td>\n",
              "    </tr>\n",
              "    <tr>\n",
              "      <th>metadata_file_extensions</th>\n",
              "      <td>{'zip': ['OSD-1_metadata_OSD-1-ISA.zip']}</td>\n",
              "    </tr>\n",
              "    <tr>\n",
              "      <th>metadata_filename</th>\n",
              "      <td>OSD-1_metadata_OSD-1-ISA.zip</td>\n",
              "    </tr>\n",
              "    <tr>\n",
              "      <th>metadata_path</th>\n",
              "      <td>OSD-1/version-6/metadata/OSD-1_metadata_OSD-1-...</td>\n",
              "    </tr>\n",
              "    <tr>\n",
              "      <th>local_metadata_path</th>\n",
              "      <td>download_dir/OSD-1_metadata_OSD-1-ISA.zip</td>\n",
              "    </tr>\n",
              "    <tr>\n",
              "      <th>metadata_filenames</th>\n",
              "      <td>[s_OSD-1.txt, i_Investigation.txt, a_OSD-1_tra...</td>\n",
              "    </tr>\n",
              "    <tr>\n",
              "      <th>study_metadata_filenames</th>\n",
              "      <td>{'array': ['a_OSD-1_transcription-profiling_dn...</td>\n",
              "    </tr>\n",
              "    <tr>\n",
              "      <th>metadata_sample_filenames</th>\n",
              "      <td>{'s_OSD-1.txt': True, 'i_Investigation.txt': F...</td>\n",
              "    </tr>\n",
              "    <tr>\n",
              "      <th>metadata_sample_filename</th>\n",
              "      <td>s_OSD-1.txt</td>\n",
              "    </tr>\n",
              "  </tbody>\n",
              "</table>\n",
              "</div>\n",
              "    <div class=\"colab-df-buttons\">\n",
              "\n",
              "  <div class=\"colab-df-container\">\n",
              "    <button class=\"colab-df-convert\" onclick=\"convertToInteractive('df-fc65a8b9-dfb9-4a91-a986-7ad8cf985102')\"\n",
              "            title=\"Convert this dataframe to an interactive table.\"\n",
              "            style=\"display:none;\">\n",
              "\n",
              "  <svg xmlns=\"http://www.w3.org/2000/svg\" height=\"24px\" viewBox=\"0 -960 960 960\">\n",
              "    <path d=\"M120-120v-720h720v720H120Zm60-500h600v-160H180v160Zm220 220h160v-160H400v160Zm0 220h160v-160H400v160ZM180-400h160v-160H180v160Zm440 0h160v-160H620v160ZM180-180h160v-160H180v160Zm440 0h160v-160H620v160Z\"/>\n",
              "  </svg>\n",
              "    </button>\n",
              "\n",
              "  <style>\n",
              "    .colab-df-container {\n",
              "      display:flex;\n",
              "      gap: 12px;\n",
              "    }\n",
              "\n",
              "    .colab-df-convert {\n",
              "      background-color: #E8F0FE;\n",
              "      border: none;\n",
              "      border-radius: 50%;\n",
              "      cursor: pointer;\n",
              "      display: none;\n",
              "      fill: #1967D2;\n",
              "      height: 32px;\n",
              "      padding: 0 0 0 0;\n",
              "      width: 32px;\n",
              "    }\n",
              "\n",
              "    .colab-df-convert:hover {\n",
              "      background-color: #E2EBFA;\n",
              "      box-shadow: 0px 1px 2px rgba(60, 64, 67, 0.3), 0px 1px 3px 1px rgba(60, 64, 67, 0.15);\n",
              "      fill: #174EA6;\n",
              "    }\n",
              "\n",
              "    .colab-df-buttons div {\n",
              "      margin-bottom: 4px;\n",
              "    }\n",
              "\n",
              "    [theme=dark] .colab-df-convert {\n",
              "      background-color: #3B4455;\n",
              "      fill: #D2E3FC;\n",
              "    }\n",
              "\n",
              "    [theme=dark] .colab-df-convert:hover {\n",
              "      background-color: #434B5C;\n",
              "      box-shadow: 0px 1px 3px 1px rgba(0, 0, 0, 0.15);\n",
              "      filter: drop-shadow(0px 1px 2px rgba(0, 0, 0, 0.3));\n",
              "      fill: #FFFFFF;\n",
              "    }\n",
              "  </style>\n",
              "\n",
              "    <script>\n",
              "      const buttonEl =\n",
              "        document.querySelector('#df-fc65a8b9-dfb9-4a91-a986-7ad8cf985102 button.colab-df-convert');\n",
              "      buttonEl.style.display =\n",
              "        google.colab.kernel.accessAllowed ? 'block' : 'none';\n",
              "\n",
              "      async function convertToInteractive(key) {\n",
              "        const element = document.querySelector('#df-fc65a8b9-dfb9-4a91-a986-7ad8cf985102');\n",
              "        const dataTable =\n",
              "          await google.colab.kernel.invokeFunction('convertToInteractive',\n",
              "                                                    [key], {});\n",
              "        if (!dataTable) return;\n",
              "\n",
              "        const docLinkHtml = 'Like what you see? Visit the ' +\n",
              "          '<a target=\"_blank\" href=https://colab.research.google.com/notebooks/data_table.ipynb>data table notebook</a>'\n",
              "          + ' to learn more about interactive tables.';\n",
              "        element.innerHTML = '';\n",
              "        dataTable['output_type'] = 'display_data';\n",
              "        await google.colab.output.renderOutput(dataTable, element);\n",
              "        const docLink = document.createElement('div');\n",
              "        docLink.innerHTML = docLinkHtml;\n",
              "        element.appendChild(docLink);\n",
              "      }\n",
              "    </script>\n",
              "  </div>\n",
              "\n",
              "\n",
              "<div id=\"df-fcc7b56c-088a-472a-bc17-3f128333500e\">\n",
              "  <button class=\"colab-df-quickchart\" onclick=\"quickchart('df-fcc7b56c-088a-472a-bc17-3f128333500e')\"\n",
              "            title=\"Suggest charts.\"\n",
              "            style=\"display:none;\">\n",
              "\n",
              "<svg xmlns=\"http://www.w3.org/2000/svg\" height=\"24px\"viewBox=\"0 0 24 24\"\n",
              "     width=\"24px\">\n",
              "    <g>\n",
              "        <path d=\"M19 3H5c-1.1 0-2 .9-2 2v14c0 1.1.9 2 2 2h14c1.1 0 2-.9 2-2V5c0-1.1-.9-2-2-2zM9 17H7v-7h2v7zm4 0h-2V7h2v10zm4 0h-2v-4h2v4z\"/>\n",
              "    </g>\n",
              "</svg>\n",
              "  </button>\n",
              "\n",
              "<style>\n",
              "  .colab-df-quickchart {\n",
              "      --bg-color: #E8F0FE;\n",
              "      --fill-color: #1967D2;\n",
              "      --hover-bg-color: #E2EBFA;\n",
              "      --hover-fill-color: #174EA6;\n",
              "      --disabled-fill-color: #AAA;\n",
              "      --disabled-bg-color: #DDD;\n",
              "  }\n",
              "\n",
              "  [theme=dark] .colab-df-quickchart {\n",
              "      --bg-color: #3B4455;\n",
              "      --fill-color: #D2E3FC;\n",
              "      --hover-bg-color: #434B5C;\n",
              "      --hover-fill-color: #FFFFFF;\n",
              "      --disabled-bg-color: #3B4455;\n",
              "      --disabled-fill-color: #666;\n",
              "  }\n",
              "\n",
              "  .colab-df-quickchart {\n",
              "    background-color: var(--bg-color);\n",
              "    border: none;\n",
              "    border-radius: 50%;\n",
              "    cursor: pointer;\n",
              "    display: none;\n",
              "    fill: var(--fill-color);\n",
              "    height: 32px;\n",
              "    padding: 0;\n",
              "    width: 32px;\n",
              "  }\n",
              "\n",
              "  .colab-df-quickchart:hover {\n",
              "    background-color: var(--hover-bg-color);\n",
              "    box-shadow: 0 1px 2px rgba(60, 64, 67, 0.3), 0 1px 3px 1px rgba(60, 64, 67, 0.15);\n",
              "    fill: var(--button-hover-fill-color);\n",
              "  }\n",
              "\n",
              "  .colab-df-quickchart-complete:disabled,\n",
              "  .colab-df-quickchart-complete:disabled:hover {\n",
              "    background-color: var(--disabled-bg-color);\n",
              "    fill: var(--disabled-fill-color);\n",
              "    box-shadow: none;\n",
              "  }\n",
              "\n",
              "  .colab-df-spinner {\n",
              "    border: 2px solid var(--fill-color);\n",
              "    border-color: transparent;\n",
              "    border-bottom-color: var(--fill-color);\n",
              "    animation:\n",
              "      spin 1s steps(1) infinite;\n",
              "  }\n",
              "\n",
              "  @keyframes spin {\n",
              "    0% {\n",
              "      border-color: transparent;\n",
              "      border-bottom-color: var(--fill-color);\n",
              "      border-left-color: var(--fill-color);\n",
              "    }\n",
              "    20% {\n",
              "      border-color: transparent;\n",
              "      border-left-color: var(--fill-color);\n",
              "      border-top-color: var(--fill-color);\n",
              "    }\n",
              "    30% {\n",
              "      border-color: transparent;\n",
              "      border-left-color: var(--fill-color);\n",
              "      border-top-color: var(--fill-color);\n",
              "      border-right-color: var(--fill-color);\n",
              "    }\n",
              "    40% {\n",
              "      border-color: transparent;\n",
              "      border-right-color: var(--fill-color);\n",
              "      border-top-color: var(--fill-color);\n",
              "    }\n",
              "    60% {\n",
              "      border-color: transparent;\n",
              "      border-right-color: var(--fill-color);\n",
              "    }\n",
              "    80% {\n",
              "      border-color: transparent;\n",
              "      border-right-color: var(--fill-color);\n",
              "      border-bottom-color: var(--fill-color);\n",
              "    }\n",
              "    90% {\n",
              "      border-color: transparent;\n",
              "      border-bottom-color: var(--fill-color);\n",
              "    }\n",
              "  }\n",
              "</style>\n",
              "\n",
              "  <script>\n",
              "    async function quickchart(key) {\n",
              "      const quickchartButtonEl =\n",
              "        document.querySelector('#' + key + ' button');\n",
              "      quickchartButtonEl.disabled = true;  // To prevent multiple clicks.\n",
              "      quickchartButtonEl.classList.add('colab-df-spinner');\n",
              "      try {\n",
              "        const charts = await google.colab.kernel.invokeFunction(\n",
              "            'suggestCharts', [key], {});\n",
              "      } catch (error) {\n",
              "        console.error('Error during call to suggestCharts:', error);\n",
              "      }\n",
              "      quickchartButtonEl.classList.remove('colab-df-spinner');\n",
              "      quickchartButtonEl.classList.add('colab-df-quickchart-complete');\n",
              "    }\n",
              "    (() => {\n",
              "      let quickchartButtonEl =\n",
              "        document.querySelector('#df-fcc7b56c-088a-472a-bc17-3f128333500e button');\n",
              "      quickchartButtonEl.style.display =\n",
              "        google.colab.kernel.accessAllowed ? 'block' : 'none';\n",
              "    })();\n",
              "  </script>\n",
              "</div>\n",
              "    </div>\n",
              "  </div>\n"
            ]
          },
          "metadata": {},
          "execution_count": 358
        }
      ]
    },
    {
      "cell_type": "code",
      "source": [
        "all_sample_dfs = []\n",
        "for idx, row in stats.iterrows():\n",
        "    if row['metadata_sample_filename']:\n",
        "        # read samples dataframe\n",
        "        df = read_dataframe_from_zip(row['local_metadata_path'], row['metadata_sample_filename'])\n",
        "\n",
        "        # add experiment level attributes\n",
        "        df['experiment_id'] = row['experiment_id']\n",
        "        df['version'] = row['version']\n",
        "        df['metadata_filename'] = row['metadata_filename']\n",
        "        df['metadata_path'] = row['metadata_path']\n",
        "        df['metadata_sample_filename'] = row['metadata_sample_filename']\n",
        "\n",
        "        # normalize columns\n",
        "        df.columns = [x.lower().strip() for x in df.columns]\n",
        "\n",
        "        all_sample_dfs.append(df)\n",
        "samples_df = pd.concat(all_sample_dfs)\n",
        "samples_df.to_csv('samples.csv')"
      ],
      "metadata": {
        "id": "gKrUeQsPbq9D"
      },
      "execution_count": 360,
      "outputs": []
    },
    {
      "cell_type": "code",
      "source": [
        "samples_df.shape"
      ],
      "metadata": {
        "colab": {
          "base_uri": "https://localhost:8080/"
        },
        "id": "wgH5wnfZcO4_",
        "outputId": "d2dc06a6-80f6-4ba9-d4ed-7168b8fbfe2f"
      },
      "execution_count": 361,
      "outputs": [
        {
          "output_type": "execute_result",
          "data": {
            "text/plain": [
              "(24436, 799)"
            ]
          },
          "metadata": {},
          "execution_count": 361
        }
      ]
    },
    {
      "cell_type": "code",
      "source": [
        "import json\n",
        "with open('samples_columns.json', 'w') as file:\n",
        "    json.dump(samples_df.columns.tolist(), file)"
      ],
      "metadata": {
        "id": "jRunnCP8gQWa"
      },
      "execution_count": 363,
      "outputs": []
    },
    {
      "cell_type": "markdown",
      "source": [
        "# TODO: Try to simplify column names and match between sample tables"
      ],
      "metadata": {
        "id": "VyU03Ldif0A3"
      }
    }
  ]
}