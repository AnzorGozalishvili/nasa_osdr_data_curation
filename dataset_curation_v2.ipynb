{
  "nbformat": 4,
  "nbformat_minor": 0,
  "metadata": {
    "colab": {
      "provenance": [],
      "include_colab_link": true
    },
    "kernelspec": {
      "name": "python3",
      "display_name": "Python 3"
    },
    "language_info": {
      "name": "python"
    }
  },
  "cells": [
    {
      "cell_type": "markdown",
      "metadata": {
        "id": "view-in-github",
        "colab_type": "text"
      },
      "source": [
        "<a href=\"https://colab.research.google.com/github/AnzorGozalishvili/NASA_ODSR_DATA/blob/main/dataset_curation_v2.ipynb\" target=\"_parent\"><img src=\"https://colab.research.google.com/assets/colab-badge.svg\" alt=\"Open In Colab\"/></a>"
      ]
    },
    {
      "cell_type": "markdown",
      "source": [
        "# Install Requirements"
      ],
      "metadata": {
        "id": "wY9b-ylvFjJ1"
      }
    },
    {
      "cell_type": "code",
      "source": [
        "!pip install bio\n",
        "!pip install biopython\n",
        "!pip install boto3 torch"
      ],
      "metadata": {
        "colab": {
          "base_uri": "https://localhost:8080/"
        },
        "id": "GHWovwG2yPV4",
        "outputId": "aea7a12a-ace4-49f7-cfc3-4b519ac1ec41"
      },
      "execution_count": 1,
      "outputs": [
        {
          "output_type": "stream",
          "name": "stdout",
          "text": [
            "Requirement already satisfied: bio in /usr/local/lib/python3.10/dist-packages (1.5.9)\n",
            "Requirement already satisfied: biopython>=1.80 in /usr/local/lib/python3.10/dist-packages (from bio) (1.81)\n",
            "Requirement already satisfied: requests in /usr/local/lib/python3.10/dist-packages (from bio) (2.31.0)\n",
            "Requirement already satisfied: tqdm in /usr/local/lib/python3.10/dist-packages (from bio) (4.66.1)\n",
            "Requirement already satisfied: mygene in /usr/local/lib/python3.10/dist-packages (from bio) (3.2.2)\n",
            "Requirement already satisfied: pandas in /usr/local/lib/python3.10/dist-packages (from bio) (1.5.3)\n",
            "Requirement already satisfied: pooch in /usr/local/lib/python3.10/dist-packages (from bio) (1.7.0)\n",
            "Requirement already satisfied: gprofiler-official in /usr/local/lib/python3.10/dist-packages (from bio) (1.0.0)\n",
            "Requirement already satisfied: numpy in /usr/local/lib/python3.10/dist-packages (from biopython>=1.80->bio) (1.23.5)\n",
            "Requirement already satisfied: biothings-client>=0.2.6 in /usr/local/lib/python3.10/dist-packages (from mygene->bio) (0.3.0)\n",
            "Requirement already satisfied: python-dateutil>=2.8.1 in /usr/local/lib/python3.10/dist-packages (from pandas->bio) (2.8.2)\n",
            "Requirement already satisfied: pytz>=2020.1 in /usr/local/lib/python3.10/dist-packages (from pandas->bio) (2023.3.post1)\n",
            "Requirement already satisfied: platformdirs>=2.5.0 in /usr/local/lib/python3.10/dist-packages (from pooch->bio) (3.11.0)\n",
            "Requirement already satisfied: packaging>=20.0 in /usr/local/lib/python3.10/dist-packages (from pooch->bio) (23.2)\n",
            "Requirement already satisfied: charset-normalizer<4,>=2 in /usr/local/lib/python3.10/dist-packages (from requests->bio) (3.3.0)\n",
            "Requirement already satisfied: idna<4,>=2.5 in /usr/local/lib/python3.10/dist-packages (from requests->bio) (3.4)\n",
            "Requirement already satisfied: urllib3<3,>=1.21.1 in /usr/local/lib/python3.10/dist-packages (from requests->bio) (2.0.6)\n",
            "Requirement already satisfied: certifi>=2017.4.17 in /usr/local/lib/python3.10/dist-packages (from requests->bio) (2023.7.22)\n",
            "Requirement already satisfied: six>=1.5 in /usr/local/lib/python3.10/dist-packages (from python-dateutil>=2.8.1->pandas->bio) (1.16.0)\n",
            "Requirement already satisfied: biopython in /usr/local/lib/python3.10/dist-packages (1.81)\n",
            "Requirement already satisfied: numpy in /usr/local/lib/python3.10/dist-packages (from biopython) (1.23.5)\n",
            "Requirement already satisfied: boto3 in /usr/local/lib/python3.10/dist-packages (1.28.62)\n",
            "Requirement already satisfied: torch in /usr/local/lib/python3.10/dist-packages (2.0.1+cu118)\n",
            "Requirement already satisfied: botocore<1.32.0,>=1.31.62 in /usr/local/lib/python3.10/dist-packages (from boto3) (1.31.62)\n",
            "Requirement already satisfied: jmespath<2.0.0,>=0.7.1 in /usr/local/lib/python3.10/dist-packages (from boto3) (1.0.1)\n",
            "Requirement already satisfied: s3transfer<0.8.0,>=0.7.0 in /usr/local/lib/python3.10/dist-packages (from boto3) (0.7.0)\n",
            "Requirement already satisfied: filelock in /usr/local/lib/python3.10/dist-packages (from torch) (3.12.4)\n",
            "Requirement already satisfied: typing-extensions in /usr/local/lib/python3.10/dist-packages (from torch) (4.5.0)\n",
            "Requirement already satisfied: sympy in /usr/local/lib/python3.10/dist-packages (from torch) (1.12)\n",
            "Requirement already satisfied: networkx in /usr/local/lib/python3.10/dist-packages (from torch) (3.1)\n",
            "Requirement already satisfied: jinja2 in /usr/local/lib/python3.10/dist-packages (from torch) (3.1.2)\n",
            "Requirement already satisfied: triton==2.0.0 in /usr/local/lib/python3.10/dist-packages (from torch) (2.0.0)\n",
            "Requirement already satisfied: cmake in /usr/local/lib/python3.10/dist-packages (from triton==2.0.0->torch) (3.27.6)\n",
            "Requirement already satisfied: lit in /usr/local/lib/python3.10/dist-packages (from triton==2.0.0->torch) (17.0.2)\n",
            "Requirement already satisfied: python-dateutil<3.0.0,>=2.1 in /usr/local/lib/python3.10/dist-packages (from botocore<1.32.0,>=1.31.62->boto3) (2.8.2)\n",
            "Requirement already satisfied: urllib3<2.1,>=1.25.4 in /usr/local/lib/python3.10/dist-packages (from botocore<1.32.0,>=1.31.62->boto3) (2.0.6)\n",
            "Requirement already satisfied: MarkupSafe>=2.0 in /usr/local/lib/python3.10/dist-packages (from jinja2->torch) (2.1.3)\n",
            "Requirement already satisfied: mpmath>=0.19 in /usr/local/lib/python3.10/dist-packages (from sympy->torch) (1.3.0)\n",
            "Requirement already satisfied: six>=1.5 in /usr/local/lib/python3.10/dist-packages (from python-dateutil<3.0.0,>=2.1->botocore<1.32.0,>=1.31.62->boto3) (1.16.0)\n"
          ]
        }
      ]
    },
    {
      "cell_type": "markdown",
      "source": [
        "# Import Libraries\n",
        "- for data access on s3\n",
        "- for data read and manupulation"
      ],
      "metadata": {
        "id": "hbOrkKgrFnr6"
      }
    },
    {
      "cell_type": "code",
      "source": [
        "from Bio import SeqIO\n",
        "import gzip\n",
        "import pandas as pd\n",
        "import boto3\n",
        "from botocore import UNSIGNED\n",
        "from botocore.client import Config\n",
        "import requests\n",
        "import os\n",
        "from torch.utils.data import Dataset, DataLoader\n",
        "import torch\n",
        "\n",
        "import zipfile\n",
        "import io\n",
        "import csv\n"
      ],
      "metadata": {
        "id": "JhuuF2GdnO2V"
      },
      "execution_count": 2,
      "outputs": []
    },
    {
      "cell_type": "code",
      "source": [
        "# remove downloads folder to start from scratch if needed\n",
        "# !rm -rf downloaded_data"
      ],
      "metadata": {
        "id": "3oZZEFGs9tho"
      },
      "execution_count": 3,
      "outputs": []
    },
    {
      "cell_type": "markdown",
      "source": [
        "## Retrieving all `OSD-XXX` experiment directories from public s3 bucket `nasa-osdr`\n",
        "\n",
        "Reference: https://registry.opendata.aws/nasa-osdr/"
      ],
      "metadata": {
        "id": "FixkZiSWF_CN"
      }
    },
    {
      "cell_type": "code",
      "source": [
        "BUCKET_NAME='nasa-osdr'"
      ],
      "metadata": {
        "id": "ImgCCghlmgb1"
      },
      "execution_count": 4,
      "outputs": []
    },
    {
      "cell_type": "code",
      "source": [
        "CLIENT = boto3.client('s3', config=Config(signature_version=UNSIGNED))\n",
        "PAGINATOR = CLIENT.get_paginator('list_objects_v2')"
      ],
      "metadata": {
        "id": "_Oo8lLxont81"
      },
      "execution_count": 5,
      "outputs": []
    },
    {
      "cell_type": "code",
      "source": [
        "def list_all_directories(directory_prefix, delimiter='/', show_errors=True):\n",
        "  result = PAGINATOR.paginate(Bucket=BUCKET_NAME, Prefix=directory_prefix, Delimiter=delimiter)\n",
        "\n",
        "  all_directories = []\n",
        "  for prefix in result.search('CommonPrefixes'):\n",
        "      try:\n",
        "          all_directories.append(prefix.get('Prefix').removesuffix(delimiter))\n",
        "      except Exception as e:\n",
        "          if show_errors is True:\n",
        "            print(bucket_name, directory_prefix, delimiter, e)\n",
        "\n",
        "  return all_directories"
      ],
      "metadata": {
        "id": "dLgQ27ja8X1G"
      },
      "execution_count": 6,
      "outputs": []
    },
    {
      "cell_type": "code",
      "source": [
        "assert len(list_all_directories(directory_prefix='OSD-', delimiter='/')) == 451"
      ],
      "metadata": {
        "id": "yx7JkZM--OR1"
      },
      "execution_count": 7,
      "outputs": []
    },
    {
      "cell_type": "markdown",
      "source": [
        "## Get all versions sorted to be able to access latest only records"
      ],
      "metadata": {
        "id": "1eGXvoz3GRV4"
      }
    },
    {
      "cell_type": "code",
      "source": [
        "def get_osdr_versions_sorted(osdr_directory_name, delimiter='/', show_errors=True):\n",
        "    result = PAGINATOR.paginate(\n",
        "        Bucket=BUCKET_NAME,\n",
        "        Prefix=osdr_directory_name + delimiter,\n",
        "        Delimiter=delimiter\n",
        "        )\n",
        "\n",
        "    all_versions = []\n",
        "    for prefix in result.search('CommonPrefixes'):\n",
        "        version_directory_name = prefix.get('Prefix').removesuffix(delimiter).removeprefix(osdr_directory_name + delimiter)\n",
        "        try:\n",
        "            assert version_directory_name.startswith('version-')\n",
        "            version_number = int(version_directory_name.split('-')[-1])\n",
        "            all_versions.append((version_directory_name, version_number))\n",
        "        except:\n",
        "            if show_errors is True:\n",
        "                print(f'skipping invalid version directory name:{version_directory_name} under: {osdr_directory_name}')\n",
        "\n",
        "    all_versions_sorted = sorted(all_versions, key=lambda x: x[1])\n",
        "\n",
        "    return all_versions_sorted"
      ],
      "metadata": {
        "id": "MLb0NvA6-8pO"
      },
      "execution_count": 8,
      "outputs": []
    },
    {
      "cell_type": "code",
      "source": [
        "[\n",
        "    (osd, get_osdr_versions_sorted(osdr_directory_name=osd, delimiter='/'))\n",
        "    for osd in list_all_directories(directory_prefix='OSD-', delimiter='/')[:10]\n",
        "]"
      ],
      "metadata": {
        "id": "ILQIBTyvARm5",
        "outputId": "20745859-950d-4aaf-de2e-7979bfd1531c",
        "colab": {
          "base_uri": "https://localhost:8080/"
        }
      },
      "execution_count": 9,
      "outputs": [
        {
          "output_type": "execute_result",
          "data": {
            "text/plain": [
              "[('OSD-1', [('version-6', 6)]),\n",
              " ('OSD-100', [('version-5', 5)]),\n",
              " ('OSD-101', [('version-5', 5)]),\n",
              " ('OSD-102', [('version-5', 5)]),\n",
              " ('OSD-103', [('version-5', 5)]),\n",
              " ('OSD-104', [('version-4', 4)]),\n",
              " ('OSD-105', [('version-4', 4)]),\n",
              " ('OSD-106', [('version-1', 1)]),\n",
              " ('OSD-107', [('version-1', 1)]),\n",
              " ('OSD-108', [('version-2', 2)])]"
            ]
          },
          "metadata": {},
          "execution_count": 9
        }
      ]
    },
    {
      "cell_type": "markdown",
      "source": [
        "## count the number of versions distribution per OSD-XXX **(takes about a minute to run!)**"
      ],
      "metadata": {
        "id": "EEt7pPJDGgMR"
      }
    },
    {
      "cell_type": "code",
      "source": [
        "osdr_versions_sorted = {\n",
        "    osdr: get_osdr_versions_sorted(osdr_directory_name=osdr, delimiter='/')\n",
        "    for osdr in list_all_directories(directory_prefix='OSD-', delimiter='/')\n",
        "}\n",
        "osdr_versions_counts = {\n",
        "    osdr: len(versions_sorted)\n",
        "    for  osdr, versions_sorted in osdr_versions_sorted.items()\n",
        "}\n",
        "\n",
        "pd.Series(osdr_versions_counts).value_counts()"
      ],
      "metadata": {
        "id": "VRGCN07fDA77",
        "outputId": "15aeb0c6-0934-4c2c-8560-e5684cc20508",
        "colab": {
          "base_uri": "https://localhost:8080/"
        }
      },
      "execution_count": 10,
      "outputs": [
        {
          "output_type": "execute_result",
          "data": {
            "text/plain": [
              "1    417\n",
              "2     34\n",
              "dtype: int64"
            ]
          },
          "metadata": {},
          "execution_count": 10
        }
      ]
    },
    {
      "cell_type": "code",
      "source": [
        "pd.Series(osdr_versions_sorted)"
      ],
      "metadata": {
        "id": "VDAezl6WBRdJ",
        "outputId": "2221a774-df63-4672-be31-a947a09f7e24",
        "colab": {
          "base_uri": "https://localhost:8080/"
        }
      },
      "execution_count": 11,
      "outputs": [
        {
          "output_type": "execute_result",
          "data": {
            "text/plain": [
              "OSD-1      [(version-6, 6)]\n",
              "OSD-100    [(version-5, 5)]\n",
              "OSD-101    [(version-5, 5)]\n",
              "OSD-102    [(version-5, 5)]\n",
              "OSD-103    [(version-5, 5)]\n",
              "                 ...       \n",
              "OSD-95     [(version-1, 1)]\n",
              "OSD-96     [(version-6, 6)]\n",
              "OSD-97     [(version-1, 1)]\n",
              "OSD-98     [(version-8, 8)]\n",
              "OSD-99     [(version-5, 5)]\n",
              "Length: 451, dtype: object"
            ]
          },
          "metadata": {},
          "execution_count": 11
        }
      ]
    },
    {
      "cell_type": "code",
      "source": [
        "osdr_latest_versions = {\n",
        "    osdr: sorted_versions[-1]\n",
        "    for osdr, sorted_versions in osdr_versions_sorted.items()\n",
        "}"
      ],
      "metadata": {
        "id": "BrTHBPc4Mhpb"
      },
      "execution_count": 12,
      "outputs": []
    },
    {
      "cell_type": "code",
      "source": [
        "list(osdr_latest_versions.items())[:5]"
      ],
      "metadata": {
        "id": "PsgIoyYBMtUG",
        "outputId": "d105410a-79c8-4f43-d451-306d83155a95",
        "colab": {
          "base_uri": "https://localhost:8080/"
        }
      },
      "execution_count": 13,
      "outputs": [
        {
          "output_type": "execute_result",
          "data": {
            "text/plain": [
              "[('OSD-1', ('version-6', 6)),\n",
              " ('OSD-100', ('version-5', 5)),\n",
              " ('OSD-101', ('version-5', 5)),\n",
              " ('OSD-102', ('version-5', 5)),\n",
              " ('OSD-103', ('version-5', 5))]"
            ]
          },
          "metadata": {},
          "execution_count": 13
        }
      ]
    },
    {
      "cell_type": "markdown",
      "source": [
        "## Access latest metadata files for each `OSD-XXX`"
      ],
      "metadata": {
        "id": "QksQyAzwG1c1"
      }
    },
    {
      "cell_type": "code",
      "source": [
        "def get_osdr_versioned_study_names(osdr_versioned_directory_name, delimiter='/', show_errors=True):\n",
        "    result = PAGINATOR.paginate(\n",
        "        Bucket=BUCKET_NAME,\n",
        "        Prefix=osdr_versioned_directory_name + delimiter,\n",
        "        Delimiter=delimiter\n",
        "    )\n",
        "\n",
        "    all_study_names = []\n",
        "    for prefix in result.search('CommonPrefixes'):\n",
        "        study_name = prefix.get('Prefix').removesuffix(delimiter).removeprefix(osdr_versioned_directory_name + delimiter)\n",
        "        all_study_names.append(study_name)\n",
        "\n",
        "    try:\n",
        "        assert all_study_names, f'No studies found for: {osdr_versioned_directory_name}'\n",
        "        assert 'metadata' in all_study_names, \\\n",
        "        f'No metadata found for: {osdr_versioned_directory_name}\\tStudies found: {all_study_names}'\n",
        "    except:\n",
        "        if show_errors is True:\n",
        "            print(f'Validation Failed for: {osdr_versioned_directory_name}\\tStudies found: {all_study_names}')\n",
        "\n",
        "    return all_study_names"
      ],
      "metadata": {
        "id": "97rbD7sHIoro"
      },
      "execution_count": 14,
      "outputs": []
    },
    {
      "cell_type": "code",
      "source": [
        "[\n",
        "    get_osdr_versioned_study_names(\n",
        "        osdr_versioned_directory_name=osdr + '/' + latest_version[0],\n",
        "        delimiter='/',\n",
        "    )\n",
        "    for osdr, latest_version in list(osdr_latest_versions.items())[:5]\n",
        "]"
      ],
      "metadata": {
        "id": "BfVFOwilILDK",
        "outputId": "49613e7d-aa09-4df5-f5c7-9350b3b12d0d",
        "colab": {
          "base_uri": "https://localhost:8080/"
        }
      },
      "execution_count": 15,
      "outputs": [
        {
          "output_type": "execute_result",
          "data": {
            "text/plain": [
              "[['array', 'metadata', 'microarray'],\n",
              " ['design', 'metadata', 'rna-seq', 'rna_seq', 'wgbs'],\n",
              " ['epigenomics',\n",
              "  'epitranscriptomics',\n",
              "  'metadata',\n",
              "  'proteomics',\n",
              "  'rna_seq',\n",
              "  'sup',\n",
              "  'transcriptomics'],\n",
              " ['design',\n",
              "  'epigenomics',\n",
              "  'epitranscriptomics',\n",
              "  'metadata',\n",
              "  'proteomics',\n",
              "  'rna_seq',\n",
              "  'transcriptomics'],\n",
              " ['design', 'metadata', 'proteomics', 'rna-seq', 'rna_seq', 'wgbs', 'wtbs']]"
            ]
          },
          "metadata": {},
          "execution_count": 15
        }
      ]
    },
    {
      "cell_type": "code",
      "source": [
        "osdr_latest_version_studies = {\n",
        "    osdr: get_osdr_versioned_study_names(\n",
        "        osdr_versioned_directory_name=osdr + '/' + latest_version[0],\n",
        "        delimiter='/',\n",
        "    )\n",
        "    for osdr, latest_version in list(osdr_latest_versions.items())\n",
        "}\n",
        "osdr_latest_version_studies_counts = {\n",
        "    osdr: len(studies)\n",
        "    for  osdr, studies in osdr_latest_version_studies.items()\n",
        "}\n",
        "\n",
        "pd.Series(osdr_latest_version_studies_counts).value_counts()"
      ],
      "metadata": {
        "id": "OZlVLZcaKlH2",
        "outputId": "76f210bb-668b-4ad9-f82d-dda8b482161b",
        "colab": {
          "base_uri": "https://localhost:8080/"
        }
      },
      "execution_count": 19,
      "outputs": [
        {
          "output_type": "stream",
          "name": "stdout",
          "text": [
            "Validation Failed for: OSD-235/version-6\tStudies found: ['rna-seq', 'rna_seq']\n",
            "Validation Failed for: OSD-245/version-14\tStudies found: ['rna-seq', 'rna_seq']\n"
          ]
        },
        {
          "output_type": "execute_result",
          "data": {
            "text/plain": [
              "2    232\n",
              "3    177\n",
              "5     18\n",
              "4     15\n",
              "7      4\n",
              "6      4\n",
              "8      1\n",
              "dtype: int64"
            ]
          },
          "metadata": {},
          "execution_count": 19
        }
      ]
    },
    {
      "cell_type": "code",
      "source": [
        "pd.Series(pd.Series(osdr_latest_version_studies).sum()).value_counts().to_dict()"
      ],
      "metadata": {
        "id": "0oPlQ0q0SgN6",
        "outputId": "5490ccb4-3eb2-483d-868a-64e53a829db7",
        "colab": {
          "base_uri": "https://localhost:8080/"
        }
      },
      "execution_count": 20,
      "outputs": [
        {
          "output_type": "execute_result",
          "data": {
            "text/plain": [
              "{'metadata': 449,\n",
              " 'microarray': 153,\n",
              " 'rna-seq': 123,\n",
              " 'rna_seq': 107,\n",
              " 'array': 68,\n",
              " 'proteomics': 29,\n",
              " 'wgs': 28,\n",
              " 'transcriptomics': 22,\n",
              " 'Amplicon': 17,\n",
              " 'GAmplicon': 17,\n",
              " 'metagenomics': 14,\n",
              " 'epigenomics': 13,\n",
              " 'sequencing': 13,\n",
              " 'micoarray': 10,\n",
              " 'wgbs': 8,\n",
              " 'metabolomics': 7,\n",
              " 'microCT': 7,\n",
              " 'GSpatialTranscriptomics': 6,\n",
              " 'sup': 6,\n",
              " 'Histology': 6,\n",
              " 'SpatialTranscriptomics': 6,\n",
              " 'miRNA-Seq': 6,\n",
              " 'design': 5,\n",
              " 'scRNA-Seq': 4,\n",
              " 'scRNA_Seq': 4,\n",
              " 'GMetagenomics': 4,\n",
              " 'RT-PCR': 3,\n",
              " 'western-blot': 3,\n",
              " 'Epigenomics': 3,\n",
              " 'rnaseq': 3,\n",
              " 'epitranscriptomics': 3,\n",
              " 'miRNA_microarray': 3,\n",
              " 'Gwgbs': 2,\n",
              " 'snRNA-Seq': 2,\n",
              " 'EPM': 2,\n",
              " 'IHC': 2,\n",
              " 'Bone_Biomechanical': 2,\n",
              " 'wtbs': 2,\n",
              " 'GsnATAC-Seq': 2,\n",
              " 'snATAC-Seq': 2,\n",
              " 'GsnRNA-Seq': 2,\n",
              " 'microscopy': 2,\n",
              " 'histomorphometry': 2,\n",
              " 'immunostaining_microscopy': 2,\n",
              " 'Balance_Beam': 1,\n",
              " 'Radial_Arm_Water_Maze': 1,\n",
              " 'Novel_Object_Recognition': 1,\n",
              " 'Illumina sequencing': 1,\n",
              " 'Flow_Cytometry': 1,\n",
              " 'peripheral_quantitative_computed_tomography_pQCT': 1,\n",
              " 'Locomotion': 1,\n",
              " 'Video Recording': 1,\n",
              " 'Three_Chamber_Social_Test': 1,\n",
              " 'tonometry': 1,\n",
              " 'Open_Field': 1,\n",
              " 'GWAS': 1,\n",
              " 'chip-seq': 1,\n",
              " 'ecotype': 1,\n",
              " '2dDIGE': 1,\n",
              " 'mass_spec': 1,\n",
              " 'mRNA_microarray': 1,\n",
              " 'morphometric-photography': 1,\n",
              " 'proteome': 1,\n",
              " 'metatranscriptomics': 1,\n",
              " 'SNP': 1,\n",
              " 'wildtype': 1,\n",
              " 'calcium-uptake': 1,\n",
              " 'DIP-seq': 1,\n",
              " 'membrane': 1,\n",
              " 'soluble': 1,\n",
              " 'Echocardiography': 1,\n",
              " 'phosphproteomics': 1,\n",
              " 'image-analysis': 1,\n",
              " 'Gait': 1,\n",
              " 'PacBio sequencing': 1}"
            ]
          },
          "metadata": {},
          "execution_count": 20
        }
      ]
    },
    {
      "cell_type": "markdown",
      "source": [
        "**Need to find the location of metadata tables for `OSD-245` and `OSD-235` !**"
      ],
      "metadata": {
        "id": "eW5BTc4LSGB0"
      }
    },
    {
      "cell_type": "code",
      "source": [
        "def list_all_file_by_extensions(directory_prefix, show_errors=True):\n",
        "  result = PAGINATOR.paginate(Bucket=BUCKET_NAME, Prefix=directory_prefix)\n",
        "\n",
        "  all_files = []\n",
        "  for prefix in result.search('Contents'):\n",
        "      try:\n",
        "          file_prefix = prefix.get('Key')\n",
        "          file_prefix_without_directory_prefix = file_prefix.removeprefix(directory_prefix)\n",
        "          file_extension = \".\".join(file_prefix_without_directory_prefix.split('.')[1:])\n",
        "          all_files.append((file_prefix_without_directory_prefix, file_extension))\n",
        "      except Exception as e:\n",
        "          if show_errors is True:\n",
        "              print(BUCKET_NAME, directory_prefix, e)\n",
        "\n",
        "  all_extensions = set([x[1] for x in all_files])\n",
        "  files_by_extensions = {extension:[] for extension in all_extensions}\n",
        "  for file_prefix_without_directory_prefix, file_extension in all_files:\n",
        "      files_by_extensions[file_extension].append(file_prefix_without_directory_prefix)\n",
        "\n",
        "  return files_by_extensions"
      ],
      "metadata": {
        "id": "ds86dJ5AWevG"
      },
      "execution_count": 29,
      "outputs": []
    },
    {
      "cell_type": "code",
      "source": [
        "assert list_all_file_by_extensions(\n",
        "            directory_prefix=f'OSD-235/version-6/rna_seq/',\n",
        "        )"
      ],
      "metadata": {
        "id": "cgLThAi_cLfB"
      },
      "execution_count": 30,
      "outputs": []
    },
    {
      "cell_type": "code",
      "source": [
        "def explore_file_types_in_studies_to_identify_metadata(osdrs):\n",
        "  separator = \"=\"*80 + '\\n'\n",
        "\n",
        "  print(\"Versions\\n\", separator)\n",
        "  # check number of versions\n",
        "  for osdr in osdrs:\n",
        "    print(osdr, 'versions found: ', osdr_versions_sorted[osdr])\n",
        "\n",
        "  print(\"Studies\\n\", separator)\n",
        "  # check studies\n",
        "  for osdr in osdrs:\n",
        "    latest_version = osdr_latest_versions[osdr][0]\n",
        "    latest_studies = osdr_latest_version_studies[osdr]\n",
        "    print(separator)\n",
        "    print(osdr, latest_version, 'studies found:', latest_studies)\n",
        "\n",
        "\n",
        "  # check study contents\n",
        "  for osdr in osdrs:\n",
        "    latest_version = osdr_latest_versions[osdr][0]\n",
        "    latest_studies = osdr_latest_version_studies[osdr]\n",
        "\n",
        "    print(\"Studies Contents\\n\", separator)\n",
        "    # check all file types in each study\n",
        "    for study in latest_studies:\n",
        "\n",
        "        # check if more directories exist in studies\n",
        "        study_subdirectories = list_all_directories(\n",
        "            directory_prefix=f'{osdr}/{latest_version}/{study}/',\n",
        "            delimiter='/',\n",
        "            show_errors = False,\n",
        "        )\n",
        "        print(separator)\n",
        "        print(osdr, latest_version, study, 'subdirectories found:', study_subdirectories)\n",
        "\n",
        "\n",
        "        # group all files by extensions in study\n",
        "        study_files_by_extensions = list_all_file_by_extensions(\n",
        "            directory_prefix=f'{osdr}/{latest_version}/{study}/',\n",
        "            show_errors = False,\n",
        "        )\n",
        "        try:\n",
        "            extension_value_counts = pd.Series(study_files_by_extensions).apply(len).to_dict()\n",
        "            extension_file_examples = pd.Series(study_files_by_extensions).apply(lambda x: x[:2]).to_dict()\n",
        "            print(separator)\n",
        "            print(\n",
        "                osdr, latest_version, study,\n",
        "                'files grouped by extensions:', extension_value_counts, extension_file_examples\n",
        "            )\n",
        "        except Exception as e:\n",
        "            print(e)"
      ],
      "metadata": {
        "id": "r1qlYBZ7U6OT"
      },
      "execution_count": 33,
      "outputs": []
    },
    {
      "cell_type": "code",
      "source": [
        "explore_file_types_in_studies_to_identify_metadata(['OSD-245', 'OSD-235'])"
      ],
      "metadata": {
        "id": "rnI_e7IYb_ul",
        "outputId": "5b0048f9-de6d-4109-8c5b-6954ffd8bce0",
        "colab": {
          "base_uri": "https://localhost:8080/"
        }
      },
      "execution_count": 34,
      "outputs": [
        {
          "output_type": "stream",
          "name": "stdout",
          "text": [
            "Versions\n",
            " ================================================================================\n",
            "\n",
            "OSD-245 versions found:  [('version-14', 14)]\n",
            "OSD-235 versions found:  [('version-6', 6)]\n",
            "Studies\n",
            " ================================================================================\n",
            "\n",
            "================================================================================\n",
            "\n",
            "OSD-245 version-14 studies found: ['rna-seq', 'rna_seq']\n",
            "================================================================================\n",
            "\n",
            "OSD-235 version-6 studies found: ['rna-seq', 'rna_seq']\n",
            "Studies Contents\n",
            " ================================================================================\n",
            "\n",
            "================================================================================\n",
            "\n",
            "OSD-245 version-14 rna-seq subdirectories found: []\n",
            "================================================================================\n",
            "\n",
            "OSD-245 version-14 rna-seq files grouped by extensions: {'fastq.gz': 118, 'zip': 107, 'html': 107} {'fastq.gz': ['GLDS-245_rna-seq_Mmus_C57-6T_LVR_BSL_ISS-T_Rep10_B2_R1_raw.fastq.gz', 'GLDS-245_rna-seq_Mmus_C57-6T_LVR_BSL_ISS-T_Rep10_B2_R2_raw.fastq.gz'], 'zip': ['GLDS-245_rna-seq_Mmus_C57-6T_LVR_BSL_ISS-T_Rep10_B2_R1_raw_fastqc.zip', 'GLDS-245_rna-seq_Mmus_C57-6T_LVR_BSL_ISS-T_Rep10_B2_R2_raw_fastqc.zip'], 'html': ['GLDS-245_rna-seq_Mmus_C57-6T_LVR_BSL_ISS-T_Rep10_B2_R1_raw_fastqc.html', 'GLDS-245_rna-seq_Mmus_C57-6T_LVR_BSL_ISS-T_Rep10_B2_R2_raw_fastqc.html']}\n",
            "================================================================================\n",
            "\n",
            "OSD-245 version-14 rna_seq subdirectories found: []\n",
            "================================================================================\n",
            "\n",
            "OSD-245 version-14 rna_seq files grouped by extensions: {'sortedByCoord.out.bam': 59, 'zip': 119, 'toTranscriptome.out.bam': 59, 'html': 119, 'out.tab': 59, 'final.out': 59, 'fastq.gz_trimming_report.txt': 118, 'fastq.gz': 118} {'sortedByCoord.out.bam': ['GLDS-245_rna_seq_Mmus_C57-6T_LVR_BSL_ISS-T_Rep10_B2_Aligned.sortedByCoord.out.bam', 'GLDS-245_rna_seq_Mmus_C57-6T_LVR_BSL_ISS-T_Rep1_B1_Aligned.sortedByCoord.out.bam'], 'zip': ['GLDS-245_rna_seq_Mmus_C57-6T_LVR_BSL_ISS-T_Rep10_B2_R1_trimmed_fastqc.zip', 'GLDS-245_rna_seq_Mmus_C57-6T_LVR_BSL_ISS-T_Rep10_B2_R2_trimmed_fastqc.zip'], 'toTranscriptome.out.bam': ['GLDS-245_rna_seq_Mmus_C57-6T_LVR_BSL_ISS-T_Rep10_B2_Aligned.toTranscriptome.out.bam', 'GLDS-245_rna_seq_Mmus_C57-6T_LVR_BSL_ISS-T_Rep1_B1_Aligned.toTranscriptome.out.bam'], 'html': ['GLDS-245_rna_seq_Mmus_C57-6T_LVR_BSL_ISS-T_Rep10_B2_R1_trimmed_fastqc.html', 'GLDS-245_rna_seq_Mmus_C57-6T_LVR_BSL_ISS-T_Rep10_B2_R2_trimmed_fastqc.html'], 'out.tab': ['GLDS-245_rna_seq_Mmus_C57-6T_LVR_BSL_ISS-T_Rep10_B2_SJ.out.tab', 'GLDS-245_rna_seq_Mmus_C57-6T_LVR_BSL_ISS-T_Rep1_B1_SJ.out.tab'], 'final.out': ['GLDS-245_rna_seq_Mmus_C57-6T_LVR_BSL_ISS-T_Rep10_B2_Log.final.out', 'GLDS-245_rna_seq_Mmus_C57-6T_LVR_BSL_ISS-T_Rep1_B1_Log.final.out'], 'fastq.gz_trimming_report.txt': ['GLDS-245_rna_seq_Mmus_C57-6T_LVR_BSL_ISS-T_Rep10_B2_R1_raw.fastq.gz_trimming_report.txt', 'GLDS-245_rna_seq_Mmus_C57-6T_LVR_BSL_ISS-T_Rep10_B2_R2_raw.fastq.gz_trimming_report.txt'], 'fastq.gz': ['GLDS-245_rna_seq_Mmus_C57-6T_LVR_BSL_ISS-T_Rep10_B2_R1_trimmed.fastq.gz', 'GLDS-245_rna_seq_Mmus_C57-6T_LVR_BSL_ISS-T_Rep10_B2_R2_trimmed.fastq.gz']}\n",
            "Studies Contents\n",
            " ================================================================================\n",
            "\n",
            "================================================================================\n",
            "\n",
            "OSD-235 version-6 rna-seq subdirectories found: []\n",
            "================================================================================\n",
            "\n",
            "OSD-235 version-6 rna-seq files grouped by extensions: {'fastq.gz': 150, 'zip': 151, 'html': 151} {'fastq.gz': ['GLDS-235_rna-seq_Mmus_C57-6J_LVR_CO2_C_DI_ext1_Rep1_M31_R1_raw.fastq.gz', 'GLDS-235_rna-seq_Mmus_C57-6J_LVR_CO2_C_DI_ext1_Rep1_M31_R2_raw.fastq.gz'], 'zip': ['GLDS-235_rna-seq_Mmus_C57-6J_LVR_CO2_C_DI_ext1_Rep1_M31_R1_raw_fastqc.zip', 'GLDS-235_rna-seq_Mmus_C57-6J_LVR_CO2_C_DI_ext1_Rep1_M31_R2_raw_fastqc.zip'], 'html': ['GLDS-235_rna-seq_Mmus_C57-6J_LVR_CO2_C_DI_ext1_Rep1_M31_R1_raw_fastqc.html', 'GLDS-235_rna-seq_Mmus_C57-6J_LVR_CO2_C_DI_ext1_Rep1_M31_R2_raw_fastqc.html']}\n",
            "================================================================================\n",
            "\n",
            "OSD-235 version-6 rna_seq subdirectories found: []\n",
            "================================================================================\n",
            "\n",
            "OSD-235 version-6 rna_seq files grouped by extensions: {'sortedByCoord.out.bam': 75, 'zip': 151, 'toTranscriptome.out.bam': 75, 'html': 151, 'out.tab': 75, 'final.out': 75, 'fastq.gz_trimming_report.txt': 150, 'fastq.gz': 150} {'sortedByCoord.out.bam': ['GLDS-235_rna_seq_Mmus_C57-6J_LVR_CO2_C_DI_ext1_Rep1_M31_Aligned.sortedByCoord.out.bam', 'GLDS-235_rna_seq_Mmus_C57-6J_LVR_CO2_C_DI_ext1_Rep2_M32_Aligned.sortedByCoord.out.bam'], 'zip': ['GLDS-235_rna_seq_Mmus_C57-6J_LVR_CO2_C_DI_ext1_Rep1_M31_R1_trimmed_fastqc.zip', 'GLDS-235_rna_seq_Mmus_C57-6J_LVR_CO2_C_DI_ext1_Rep1_M31_R2_trimmed_fastqc.zip'], 'toTranscriptome.out.bam': ['GLDS-235_rna_seq_Mmus_C57-6J_LVR_CO2_C_DI_ext1_Rep1_M31_Aligned.toTranscriptome.out.bam', 'GLDS-235_rna_seq_Mmus_C57-6J_LVR_CO2_C_DI_ext1_Rep2_M32_Aligned.toTranscriptome.out.bam'], 'html': ['GLDS-235_rna_seq_Mmus_C57-6J_LVR_CO2_C_DI_ext1_Rep1_M31_R1_trimmed_fastqc.html', 'GLDS-235_rna_seq_Mmus_C57-6J_LVR_CO2_C_DI_ext1_Rep1_M31_R2_trimmed_fastqc.html'], 'out.tab': ['GLDS-235_rna_seq_Mmus_C57-6J_LVR_CO2_C_DI_ext1_Rep1_M31_SJ.out.tab', 'GLDS-235_rna_seq_Mmus_C57-6J_LVR_CO2_C_DI_ext1_Rep2_M32_SJ.out.tab'], 'final.out': ['GLDS-235_rna_seq_Mmus_C57-6J_LVR_CO2_C_DI_ext1_Rep1_M31_Log.final.out', 'GLDS-235_rna_seq_Mmus_C57-6J_LVR_CO2_C_DI_ext1_Rep2_M32_Log.final.out'], 'fastq.gz_trimming_report.txt': ['GLDS-235_rna_seq_Mmus_C57-6J_LVR_CO2_C_DI_ext1_Rep1_M31_R1_raw.fastq.gz_trimming_report.txt', 'GLDS-235_rna_seq_Mmus_C57-6J_LVR_CO2_C_DI_ext1_Rep1_M31_R2_raw.fastq.gz_trimming_report.txt'], 'fastq.gz': ['GLDS-235_rna_seq_Mmus_C57-6J_LVR_CO2_C_DI_ext1_Rep1_M31_R1_trimmed.fastq.gz', 'GLDS-235_rna_seq_Mmus_C57-6J_LVR_CO2_C_DI_ext1_Rep1_M31_R2_trimmed.fastq.gz']}\n"
          ]
        }
      ]
    },
    {
      "cell_type": "markdown",
      "source": [
        "## Find `samples` and `assays` tables in `metadata` and check consistency to join them."
      ],
      "metadata": {
        "id": "STLz1YXeuivf"
      }
    },
    {
      "cell_type": "code",
      "source": [],
      "metadata": {
        "id": "MCLrB62etmIY"
      },
      "execution_count": null,
      "outputs": []
    },
    {
      "cell_type": "code",
      "source": [
        "# setup s3 dataset params\n",
        "s3 = boto3.client('s3', config=Config(signature_version=UNSIGNED))\n",
        "bucket_name = 'nasa-osdr'\n",
        "directory = 'OSD-'\n",
        "\n",
        "directory_file_dict = {}\n",
        "directory_list = []\n",
        "\n",
        "# List directories under the base directory\n",
        "directories = list_all_directories(bucket_name='nasa-osdr', directory_prefix='OSD-', delimiter='/')\n",
        "\n",
        "# For each directory, list zip files and download them\n",
        "for directory in directories:\n",
        "    # List zip files in the directory\n",
        "    response = s3.list_objects(Bucket=bucket_name, Prefix=directory)\n",
        "    zip_files = [(obj['Key'], obj. for obj in response['Contents'] if obj['Key'].endswith('.zip') if \"metadata\" in obj[\"Key\"]]\n",
        "\n",
        "    # Initialize a list to store filenames for this directory\n",
        "    directory_filenames = []\n",
        "\n",
        "    # Download each zip file\n",
        "    for zip_file_key in zip_files:\n",
        "        # Extract filename from file key\n",
        "        filename = zip_file_key.split('/')[-1]\n",
        "\n",
        "        # Add the filename to the list for this directory\n",
        "        directory_filenames.append(filename)\n",
        "        dir = \"/\".join(zip_file_key.split('/')[:1]) + \"/\"\n",
        "        directory_list.append(dir)\n",
        "\n",
        "        # Create a directory to store downloaded files\n",
        "        os.makedirs(f'downloaded_data/'+ dir, exist_ok=True)\n",
        "\n",
        "        # Check if the file already exists\n",
        "        if os.path.exists(f'downloaded_data/{dir}'+\"/\"+filename):\n",
        "            # print(f'{filename} already exists. Skipping...')\n",
        "            continue\n",
        "        # Download the zip file\n",
        "        s3.download_file(bucket_name, zip_file_key, f'downloaded_data/{dir}'+\"/\"+filename)\n",
        "\n",
        "    # Add the list of filenames to the dictionary under the directory name\n",
        "    directory_name = directory.removesuffix('/')  # Remove trailing slash\n",
        "    directory_file_dict[directory_name] = directory_filenames\n"
      ],
      "metadata": {
        "id": "meZ7CJzhTryr"
      },
      "execution_count": null,
      "outputs": []
    },
    {
      "cell_type": "code",
      "source": [
        "next(iter(directory_file_dict))"
      ],
      "metadata": {
        "id": "Dj9kwAXNvmqw"
      },
      "execution_count": null,
      "outputs": []
    },
    {
      "cell_type": "code",
      "source": [
        "directory_list[:10]"
      ],
      "metadata": {
        "id": "j1hK92DCtWaE"
      },
      "execution_count": null,
      "outputs": []
    },
    {
      "cell_type": "code",
      "source": [
        "for directory in directory_list:\n",
        "  # Define the directory containing the downloaded zip files\n",
        "  downloaded_dir = f'downloaded_data/{directory}'\n",
        "  # Loop through the downloaded zip files\n",
        "  for filename in os.listdir(downloaded_dir):\n",
        "      # print(filename)\n",
        "      if filename.endswith('.txt'):\n",
        "        continue\n",
        "      if filename.endswith('.zip'):\n",
        "          zip_filepath = os.path.join(downloaded_dir, filename)\n",
        "\n",
        "          # Extract only text files from the specified folder\n",
        "          with zipfile.ZipFile(zip_filepath, 'r') as zip_ref:\n",
        "              for item in zip_ref.infolist():\n",
        "                zip_ref.extract(item, downloaded_dir)\n",
        "\n",
        "          # Remove the zip file after extraction\n",
        "          os.remove(zip_filepath)\n",
        "          # print(f'Removed {filename}')\n",
        "      else:\n",
        "          continue\n",
        "      #     # Add the code you want to execute if zip files are found here"
      ],
      "metadata": {
        "id": "OZKBITooMU4p"
      },
      "execution_count": null,
      "outputs": []
    },
    {
      "cell_type": "code",
      "source": [
        "from genericpath import exists\n",
        "import pandas as pd\n",
        "\n",
        "\n",
        "# Define the delimiter used in the text files\n",
        "delimiter = '\\t'  # For tab-separated files\n",
        "# found_files = []\n",
        "for dir in directory_list:\n",
        "  # Define the root directory\n",
        "  root_dir = f'downloaded_data/'+ dir  # Replace with the actual root directory\n",
        "  # Define the file extension you're looking for\n",
        "  target_extension = '.txt'  # Change to the extension you're interested in\n",
        "\n",
        "  # List to store found file paths\n",
        "\n",
        "  # Loop through all directories and subdirectories\n",
        "  for dirpath, dirnames, filenames in os.walk(root_dir):\n",
        "      for filename in filenames:\n",
        "          target_extension = '.txt'\n",
        "          if filename.endswith(target_extension):\n",
        "            file_path = os.path.join(dirpath, filename)\n",
        "\n",
        "            if \"investigation\" in filename.lower():\n",
        "              os.remove(file_path)\n",
        "              continue\n",
        "\n",
        "            # Read the text file and convert to CSV\n",
        "            try:\n",
        "              df = pd.read_csv(file_path, delimiter=delimiter, encoding='cp1252', on_bad_lines='skip')\n",
        "            except:\n",
        "              pass\n",
        "\n",
        "            csv_file = file_path.replace('.txt', '.csv')  # Replace .txt with .csv in the file name\n",
        "            df.to_csv(csv_file, index=False)\n",
        "            os.remove(file_path)\n",
        "\n"
      ],
      "metadata": {
        "id": "133x6EK-6czW"
      },
      "execution_count": null,
      "outputs": []
    },
    {
      "cell_type": "code",
      "source": [
        "!ls downloaded_data/OSD-136/"
      ],
      "metadata": {
        "id": "lejqsGMm0UD5"
      },
      "execution_count": null,
      "outputs": []
    },
    {
      "cell_type": "code",
      "source": [
        "per_dir_assays = {}\n",
        "per_dir_samples = {}\n",
        "for directory in directory_list:\n",
        "  per_dir_assays[directory] = []\n",
        "  per_dir_samples[directory] = []\n",
        "\n",
        "  root_dir = f'downloaded_data/'+ directory\n",
        "\n",
        "  for dirpath, dirnames, filenames in os.walk(root_dir):\n",
        "    for filename in filenames:\n",
        "\n",
        "      if filename.endswith('.csv'):\n",
        "        file_path = os.path.join(dirpath, filename)\n",
        "        try:\n",
        "          df = pd.read_csv(file_path, encoding='cp1252')\n",
        "        except:\n",
        "          df = pd.read_csv(file_path)\n",
        "\n",
        "        df_columns_lowercase = [str(x.remove().lower()) for x in df.columns]\n",
        "\n",
        "        if 'source name' in df_columns_lowercase:\n",
        "          per_dir_assays[directory].append(file_path)\n",
        "\n",
        "        elif 'sample name' in df_columns_lowercase:\n",
        "          per_dir_samples[directory].append(file_path)"
      ],
      "metadata": {
        "id": "nXOhy0GnxvEO"
      },
      "execution_count": null,
      "outputs": []
    },
    {
      "cell_type": "code",
      "source": [
        "next(iter(per_dir_samples.items()))"
      ],
      "metadata": {
        "id": "rSSj3mNWxUiS"
      },
      "execution_count": null,
      "outputs": []
    },
    {
      "cell_type": "code",
      "source": [
        "pd.Series(per_dir_samples).apply(len).value_counts()"
      ],
      "metadata": {
        "id": "vijhqxFy1XPN"
      },
      "execution_count": null,
      "outputs": []
    },
    {
      "cell_type": "code",
      "source": [
        "pd.Series(per_dir_assays).apply(len).value_counts()"
      ],
      "metadata": {
        "id": "2R58GgD41pon"
      },
      "execution_count": null,
      "outputs": []
    },
    {
      "cell_type": "code",
      "source": [
        "bad_experiment_id = pd.Series(per_dir_assays)[pd.Series(per_dir_assays).apply(len) == 0].index[0]"
      ],
      "metadata": {
        "id": "tX0UtYES-7hD"
      },
      "execution_count": null,
      "outputs": []
    },
    {
      "cell_type": "code",
      "source": [
        "del per_dir_assays[bad_experiment_id]"
      ],
      "metadata": {
        "id": "cxfkQg1t-_fb"
      },
      "execution_count": null,
      "outputs": []
    },
    {
      "cell_type": "code",
      "source": [
        "len(pd.Series(pd.Series(per_dir_samples).apply(lambda x: [x.strip().lower() for x in pd.read_csv(x[0]).columns]).sum()).unique().tolist())"
      ],
      "metadata": {
        "id": "foPovKor3uIy"
      },
      "execution_count": null,
      "outputs": []
    },
    {
      "cell_type": "code",
      "source": [
        "len(pd.Series(pd.Series(per_dir_assays).apply(lambda x: [x.strip().lower() for x in pd.read_csv(x[0]).columns]).sum()).unique().tolist())"
      ],
      "metadata": {
        "id": "DkfDw3_R2KQh"
      },
      "execution_count": null,
      "outputs": []
    },
    {
      "cell_type": "code",
      "source": [
        "all_assay_dfs = []\n",
        "for dir, assay_files in per_dir_assays.items():\n",
        "  # take first file only!\n",
        "  df = pd.read_csv(assay_files[0])\n",
        "  df.columns = [x.strip().lower() for x in df.columns]\n",
        "  df['osdr_experiment_id'] = dir.removesuffix('/')\n",
        "  all_assay_dfs.append(df)\n",
        "\n",
        "assays_df = pd.concat(all_assay_dfs)\n",
        "assays_df.reset_index(drop=True, inplace=True)\n",
        "assays_df.to_csv('assays.csv')"
      ],
      "metadata": {
        "id": "0-n1KGN44SqQ"
      },
      "execution_count": null,
      "outputs": []
    },
    {
      "cell_type": "code",
      "source": [
        "# all_sample_dfs = []\n",
        "# for dir, sample_files in per_dir_samples.items():\n",
        "#   # take first file only!\n",
        "#   df = pd.read_csv(sample_files[0])\n",
        "#   df.columns = [x.strip().lower() for x in df.columns]\n",
        "#   df['osdr_experiment_id'] = dir.removesuffix('/')\n",
        "#   all_sample_dfs.append(df)\n",
        "\n",
        "# samples_df = pd.concat(all_sample_dfs)\n",
        "# samples_df.reset_index(drop=True, inplace=True)\n",
        "# samples_df.to_csv('samples.csv')"
      ],
      "metadata": {
        "id": "oznZeXhh6C8h"
      },
      "execution_count": null,
      "outputs": []
    },
    {
      "cell_type": "code",
      "source": [
        "# Assays and Samples were different number of records. Need to merge those tables somehow"
      ],
      "metadata": {
        "id": "BmtUEKWl_gCJ"
      },
      "execution_count": null,
      "outputs": []
    },
    {
      "cell_type": "code",
      "source": [
        "assays_df.shape"
      ],
      "metadata": {
        "id": "z3su-kyU7JEX"
      },
      "execution_count": null,
      "outputs": []
    },
    {
      "cell_type": "code",
      "source": [
        "assays_df.dtypes"
      ],
      "metadata": {
        "id": "gGAWQQeZ_Khf"
      },
      "execution_count": null,
      "outputs": []
    },
    {
      "cell_type": "code",
      "source": [
        "assays_df.dtypes.to_dict()"
      ],
      "metadata": {
        "id": "q0PMMz7z_vfa"
      },
      "execution_count": null,
      "outputs": []
    },
    {
      "cell_type": "code",
      "source": [
        "import json\n",
        "with open('assays_dtypes.json', 'w') as file:\n",
        "  json.dump(assays_df.columns.tolist(), file)"
      ],
      "metadata": {
        "id": "Ti8el_2S_4-A"
      },
      "execution_count": null,
      "outputs": []
    }
  ]
}